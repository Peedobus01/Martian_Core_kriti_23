{
 "cells": [
  {
   "cell_type": "markdown",
   "metadata": {
    "id": "fCd5RSZkDoEd"
   },
   "source": [
    "<div style=\"background-color:#121212; color:#E0E0E0; padding:20px; border-radius:8px;font-family: 'Dancing Script', cursive;\">\n",
    "    <h2 style=\"color:#F1C40F;\">Importing Libraries</h2>\n",
    "    <p></p>\n",
    "</div>\n"
   ]
  },
  {
   "cell_type": "code",
   "execution_count": 64,
   "metadata": {
    "execution": {
     "iopub.execute_input": "2025-02-03T15:35:41.771718Z",
     "iopub.status.busy": "2025-02-03T15:35:41.770261Z",
     "iopub.status.idle": "2025-02-03T15:35:41.878552Z",
     "shell.execute_reply": "2025-02-03T15:35:41.877159Z",
     "shell.execute_reply.started": "2025-02-03T15:35:41.771666Z"
    },
    "executionInfo": {
     "elapsed": 2275,
     "status": "ok",
     "timestamp": 1728226065044,
     "user": {
      "displayName": "Covie",
      "userId": "10423739331182877734"
     },
     "user_tz": 240
    },
    "id": "PbVkw3i7mg0Z",
    "outputId": "8fe46c0f-4e24-4384-c6ef-0fe7050e9af7",
    "trusted": true
   },
   "outputs": [
    {
     "name": "stdout",
     "output_type": "stream",
     "text": [
      "Tensorflow version: 2.17.1\n"
     ]
    }
   ],
   "source": [
    "import numpy as np\n",
    "import tensorflow as tf\n",
    "import pandas as pd\n",
    "import warnings\n",
    "warnings.filterwarnings('ignore')\n",
    "import seaborn as sns\n",
    "\n",
    "from matplotlib.pylab import rcParams\n",
    "import matplotlib.pyplot as plt\n",
    "import plotly.express as px\n",
    "import plotly.graph_objects as go\n",
    "\n",
    "sns.set(style='whitegrid', palette='muted')\n",
    "rcParams['figure.figsize'] = 16, 6 # set figsize for all images\n",
    "\n",
    "np.random.seed(1)\n",
    "tf.random.set_seed(1)\n",
    "\n",
    "print('Tensorflow version:', tf.__version__)"
   ]
  },
  {
   "cell_type": "code",
   "execution_count": 65,
   "metadata": {
    "execution": {
     "iopub.execute_input": "2025-02-03T15:35:41.881469Z",
     "iopub.status.busy": "2025-02-03T15:35:41.880809Z",
     "iopub.status.idle": "2025-02-03T15:39:02.580859Z",
     "shell.execute_reply": "2025-02-03T15:39:02.579519Z",
     "shell.execute_reply.started": "2025-02-03T15:35:41.881431Z"
    },
    "executionInfo": {
     "elapsed": 8184,
     "status": "ok",
     "timestamp": 1728225997545,
     "user": {
      "displayName": "Covie",
      "userId": "10423739331182877734"
     },
     "user_tz": 240
    },
    "id": "OqE_l8_4JurS",
    "outputId": "6261d43c-7a34-46c6-e076-5455a1a374c1",
    "trusted": true
   },
   "outputs": [
    {
     "name": "stdout",
     "output_type": "stream",
     "text": [
      "\u001b[33mWARNING: Retrying (Retry(total=4, connect=None, read=None, redirect=None, status=None)) after connection broken by 'NewConnectionError('<pip._vendor.urllib3.connection.HTTPSConnection object at 0x7fddab74fa60>: Failed to establish a new connection: [Errno -3] Temporary failure in name resolution')': /simple/obspy/\u001b[0m\u001b[33m\n",
      "\u001b[0m\u001b[33mWARNING: Retrying (Retry(total=3, connect=None, read=None, redirect=None, status=None)) after connection broken by 'NewConnectionError('<pip._vendor.urllib3.connection.HTTPSConnection object at 0x7fddab74fd90>: Failed to establish a new connection: [Errno -3] Temporary failure in name resolution')': /simple/obspy/\u001b[0m\u001b[33m\n",
      "\u001b[0m\u001b[33mWARNING: Retrying (Retry(total=2, connect=None, read=None, redirect=None, status=None)) after connection broken by 'NewConnectionError('<pip._vendor.urllib3.connection.HTTPSConnection object at 0x7fddab74fe50>: Failed to establish a new connection: [Errno -3] Temporary failure in name resolution')': /simple/obspy/\u001b[0m\u001b[33m\n",
      "\u001b[0m\u001b[33mWARNING: Retrying (Retry(total=1, connect=None, read=None, redirect=None, status=None)) after connection broken by 'NewConnectionError('<pip._vendor.urllib3.connection.HTTPSConnection object at 0x7fddab7803d0>: Failed to establish a new connection: [Errno -3] Temporary failure in name resolution')': /simple/obspy/\u001b[0m\u001b[33m\n",
      "\u001b[0m\u001b[33mWARNING: Retrying (Retry(total=0, connect=None, read=None, redirect=None, status=None)) after connection broken by 'NewConnectionError('<pip._vendor.urllib3.connection.HTTPSConnection object at 0x7fddab780580>: Failed to establish a new connection: [Errno -3] Temporary failure in name resolution')': /simple/obspy/\u001b[0m\u001b[33m\n",
      "\u001b[0m\u001b[31mERROR: Could not find a version that satisfies the requirement obspy (from versions: none)\u001b[0m\u001b[31m\n",
      "\u001b[0m\u001b[31mERROR: No matching distribution found for obspy\u001b[0m\u001b[31m\n",
      "\u001b[0m"
     ]
    }
   ],
   "source": [
    "!pip3 install obspy"
   ]
  },
  {
   "cell_type": "code",
   "execution_count": 66,
   "metadata": {
    "execution": {
     "iopub.execute_input": "2025-02-03T15:39:02.583515Z",
     "iopub.status.busy": "2025-02-03T15:39:02.583194Z",
     "iopub.status.idle": "2025-02-03T15:39:06.240559Z",
     "shell.execute_reply": "2025-02-03T15:39:06.239543Z",
     "shell.execute_reply.started": "2025-02-03T15:39:02.583484Z"
    },
    "executionInfo": {
     "elapsed": 1455,
     "status": "ok",
     "timestamp": 1728191415720,
     "user": {
      "displayName": "Covie",
      "userId": "10423739331182877734"
     },
     "user_tz": 240
    },
    "id": "vOEn0Tlwc9oA",
    "outputId": "8a03933f-a346-4904-decd-feb45c8dc379",
    "trusted": true
   },
   "outputs": [
    {
     "name": "stdout",
     "output_type": "stream",
     "text": [
      "Name: tensorflow\n",
      "Version: 2.17.1\n",
      "Summary: TensorFlow is an open source machine learning framework for everyone.\n",
      "Home-page: https://www.tensorflow.org/\n",
      "Author: Google Inc.\n",
      "Author-email: packages@tensorflow.org\n",
      "License: Apache 2.0\n",
      "Location: /usr/local/lib/python3.10/dist-packages\n",
      "Requires: absl-py, astunparse, flatbuffers, gast, google-pasta, grpcio, h5py, keras, libclang, ml-dtypes, numpy, opt-einsum, packaging, protobuf, requests, setuptools, six, tensorboard, tensorflow-io-gcs-filesystem, termcolor, typing-extensions, wrapt\n",
      "Required-by: dopamine_rl, tensorflow-text, tensorflow_decision_forests, tf_keras\n"
     ]
    }
   ],
   "source": [
    "!pip3 show tensorflow"
   ]
  },
  {
   "cell_type": "code",
   "execution_count": 67,
   "metadata": {
    "execution": {
     "iopub.execute_input": "2025-02-03T15:39:06.242948Z",
     "iopub.status.busy": "2025-02-03T15:39:06.242636Z",
     "iopub.status.idle": "2025-02-03T15:42:26.872282Z",
     "shell.execute_reply": "2025-02-03T15:42:26.871005Z",
     "shell.execute_reply.started": "2025-02-03T15:39:06.242899Z"
    },
    "executionInfo": {
     "elapsed": 2755,
     "status": "ok",
     "timestamp": 1728186781908,
     "user": {
      "displayName": "Covie",
      "userId": "10423739331182877734"
     },
     "user_tz": 240
    },
    "id": "DB1ZxhMl3lOw",
    "outputId": "f5eee8b2-f5b4-4bb5-bacb-55044508217b",
    "trusted": true
   },
   "outputs": [
    {
     "name": "stdout",
     "output_type": "stream",
     "text": [
      "\u001b[33mWARNING: Retrying (Retry(total=4, connect=None, read=None, redirect=None, status=None)) after connection broken by 'NewConnectionError('<pip._vendor.urllib3.connection.HTTPSConnection object at 0x7c7cb21f7c40>: Failed to establish a new connection: [Errno -3] Temporary failure in name resolution')': /simple/tensorflow/\u001b[0m\u001b[33m\n",
      "\u001b[0m\u001b[33mWARNING: Retrying (Retry(total=3, connect=None, read=None, redirect=None, status=None)) after connection broken by 'NewConnectionError('<pip._vendor.urllib3.connection.HTTPSConnection object at 0x7c7cb21f7f70>: Failed to establish a new connection: [Errno -3] Temporary failure in name resolution')': /simple/tensorflow/\u001b[0m\u001b[33m\n",
      "\u001b[0m\u001b[33mWARNING: Retrying (Retry(total=2, connect=None, read=None, redirect=None, status=None)) after connection broken by 'NewConnectionError('<pip._vendor.urllib3.connection.HTTPSConnection object at 0x7c7cb2228250>: Failed to establish a new connection: [Errno -3] Temporary failure in name resolution')': /simple/tensorflow/\u001b[0m\u001b[33m\n",
      "\u001b[0m\u001b[33mWARNING: Retrying (Retry(total=1, connect=None, read=None, redirect=None, status=None)) after connection broken by 'NewConnectionError('<pip._vendor.urllib3.connection.HTTPSConnection object at 0x7c7cb2228400>: Failed to establish a new connection: [Errno -3] Temporary failure in name resolution')': /simple/tensorflow/\u001b[0m\u001b[33m\n",
      "\u001b[0m\u001b[33mWARNING: Retrying (Retry(total=0, connect=None, read=None, redirect=None, status=None)) after connection broken by 'NewConnectionError('<pip._vendor.urllib3.connection.HTTPSConnection object at 0x7c7cb22285b0>: Failed to establish a new connection: [Errno -3] Temporary failure in name resolution')': /simple/tensorflow/\u001b[0m\u001b[33m\n",
      "\u001b[0m\u001b[31mERROR: Could not find a version that satisfies the requirement tensorflow==2.17.0 (from versions: none)\u001b[0m\u001b[31m\n",
      "\u001b[0m\u001b[31mERROR: No matching distribution found for tensorflow==2.17.0\u001b[0m\u001b[31m\n",
      "\u001b[0m"
     ]
    }
   ],
   "source": [
    "!pip3 install tensorflow==2.17.0"
   ]
  },
  {
   "cell_type": "markdown",
   "metadata": {},
   "source": [
    "\n",
    "<div style=\"background-color:#121212; color:#E0E0E0; padding:20px; border-radius:8px;font-family: 'Dancing Script', cursive;\">\n",
    "    <h2 style=\"color:#F1C40F;\"> function for detecting outliers based on IQR</h2>\n",
    "    <p></p>\n",
    "</div>\n"
   ]
  },
  {
   "cell_type": "code",
   "execution_count": 68,
   "metadata": {
    "execution": {
     "iopub.execute_input": "2025-02-03T15:42:26.874241Z",
     "iopub.status.busy": "2025-02-03T15:42:26.873851Z",
     "iopub.status.idle": "2025-02-03T15:42:26.880556Z",
     "shell.execute_reply": "2025-02-03T15:42:26.879516Z",
     "shell.execute_reply.started": "2025-02-03T15:42:26.874206Z"
    },
    "id": "sy1rkxMkVy-v",
    "trusted": true
   },
   "outputs": [],
   "source": [
    "def findOutliers(x,column):\n",
    "    q1 = x[column].quantile(0.25)\n",
    "    q3 = x[column].quantile(0.75)\n",
    "    iqr = q3 - q1\n",
    "    y = x[(x[column] > (q3 + 1.5*iqr)) | (x[column] < (q1 - 1.5*iqr))]\n",
    "    return len(y), y"
   ]
  },
  {
   "cell_type": "markdown",
   "metadata": {},
   "source": [
    "function for changing ouliers based on IQR\n",
    "<div style=\"background-color:#121212; color:#E0E0E0; padding:20px; border-radius:8px;font-family: 'Dancing Script', cursive;\">\n",
    "    <h2 style=\"color:#F1C40F;\">Calling pre-trained model from Google Vertex AI</h2>\n",
    "    <p></p>\n",
    "</div>\n"
   ]
  },
  {
   "cell_type": "code",
   "execution_count": 69,
   "metadata": {
    "execution": {
     "iopub.execute_input": "2025-02-03T15:42:26.882225Z",
     "iopub.status.busy": "2025-02-03T15:42:26.881821Z",
     "iopub.status.idle": "2025-02-03T15:42:26.896723Z",
     "shell.execute_reply": "2025-02-03T15:42:26.895456Z",
     "shell.execute_reply.started": "2025-02-03T15:42:26.882188Z"
    },
    "id": "8lWiMJzHRtVV",
    "trusted": true
   },
   "outputs": [],
   "source": [
    "def changeOutliers(x,column):\n",
    "    q1 = x[column].quantile(0.25)\n",
    "    q3 = x[column].quantile(0.75)\n",
    "\n",
    "    iqr = q3 - q1\n",
    "\n",
    "    # Set up Min, Max for substitution for outliers\n",
    "    Min = q1 - 1.5*iqr\n",
    "    Max = q3 + 1.5*iqr\n",
    "\n",
    "    # Substitute to Max for the data that is bigger than \n",
    "    x.loc[(x[column] > Max), column] = Max\n",
    "    x.loc[(x[column] > Min), column] = Min\n",
    "\n",
    "    return(x)"
   ]
  },
  {
   "cell_type": "code",
   "execution_count": 70,
   "metadata": {
    "execution": {
     "iopub.execute_input": "2025-02-03T15:42:26.898717Z",
     "iopub.status.busy": "2025-02-03T15:42:26.898340Z",
     "iopub.status.idle": "2025-02-03T15:42:27.053140Z",
     "shell.execute_reply": "2025-02-03T15:42:27.052010Z",
     "shell.execute_reply.started": "2025-02-03T15:42:26.898648Z"
    },
    "executionInfo": {
     "elapsed": 3560,
     "status": "ok",
     "timestamp": 1728226220010,
     "user": {
      "displayName": "Covie",
      "userId": "10423739331182877734"
     },
     "user_tz": 240
    },
    "id": "PwLpf94tcKiV",
    "outputId": "7488ae48-0c5a-4532-eca6-53043cf4e83d",
    "trusted": true
   },
   "outputs": [
    {
     "name": "stdout",
     "output_type": "stream",
     "text": [
      "velocity(c/s) IQR outliers:  (3510,        rel_time(sec)  velocity(c/s)\n",
      "4972          248.60     417.393860\n",
      "5485          274.25    -413.031372\n",
      "5565          278.25    -423.666870\n",
      "5593          279.65     555.510742\n",
      "5595          279.75    -426.405212\n",
      "...              ...            ...\n",
      "57423        2871.15    -407.719604\n",
      "57478        2873.90     417.593506\n",
      "58330        2916.50    -458.574646\n",
      "59096        2954.80    -424.359680\n",
      "70453        3522.65     413.271912\n",
      "\n",
      "[3510 rows x 2 columns])\n",
      "velocity(c/s) IQR outliers:  (3510,        rel_time(sec)  velocity(c/s)\n",
      "4972          248.60     417.393860\n",
      "5485          274.25    -413.031372\n",
      "5565          278.25    -423.666870\n",
      "5593          279.65     555.510742\n",
      "5595          279.75    -426.405212\n",
      "...              ...            ...\n",
      "57423        2871.15    -407.719604\n",
      "57478        2873.90     417.593506\n",
      "58330        2916.50    -458.574646\n",
      "59096        2954.80    -424.359680\n",
      "70453        3522.65     413.271912\n",
      "\n",
      "[3510 rows x 2 columns])\n"
     ]
    }
   ],
   "source": [
    "fileList = ['dataset_1', 'Dataset_2']\n",
    "\n",
    "filename_0 = fileList[0]\n",
    "df_0 = pd.read_csv(\"/kaggle/input/martian-kriti/Martian/dataset_1.csv\")\n",
    "df_0 = df_0[['rel_time(sec)', 'velocity(c/s)']]\n",
    "\n",
    "filename_1 = fileList[1]\n",
    "\n",
    "df_1 = pd.read_csv(\"/kaggle/input/martian-kriti/Martian/dataset_1.csv\")\n",
    "df_1 = df_1[['rel_time(sec)', 'velocity(c/s)']]\n",
    "\n",
    "print(\"velocity(c/s) IQR outliers: \", findOutliers(df_0, 'velocity(c/s)'))\n",
    "print(\"velocity(c/s) IQR outliers: \", findOutliers(df_1, 'velocity(c/s)'))"
   ]
  },
  {
   "cell_type": "markdown",
   "metadata": {},
   "source": [
    "\n",
    "<div style=\"background-color:#121212; color:#E0E0E0; padding:20px; border-radius:8px;font-family: 'Dancing Script', cursive;\">\n",
    "    <h2 style=\"color:#F1C40F;\"> Finding the number of outliers</h2>\n",
    "    <p></p>\n",
    "</div>\n"
   ]
  },
  {
   "cell_type": "code",
   "execution_count": 71,
   "metadata": {
    "execution": {
     "iopub.execute_input": "2025-02-03T15:42:27.056456Z",
     "iopub.status.busy": "2025-02-03T15:42:27.056175Z",
     "iopub.status.idle": "2025-02-03T15:42:27.075043Z",
     "shell.execute_reply": "2025-02-03T15:42:27.074149Z",
     "shell.execute_reply.started": "2025-02-03T15:42:27.056431Z"
    },
    "executionInfo": {
     "elapsed": 343,
     "status": "ok",
     "timestamp": 1728226250572,
     "user": {
      "displayName": "Covie",
      "userId": "10423739331182877734"
     },
     "user_tz": 240
    },
    "id": "nVzuZ86g-ypI",
    "outputId": "563a2e1b-b9c3-4184-8359-f0a1d06b419e",
    "trusted": true
   },
   "outputs": [
    {
     "name": "stdout",
     "output_type": "stream",
     "text": [
      "Price IQR Outliers:  3510\n",
      "Price IQR Outliers:  3510\n"
     ]
    }
   ],
   "source": [
    "\n",
    "resCount_0, resDf_0 = findOutliers(df_0,'velocity(c/s)')\n",
    "print(\"Price IQR Outliers: \", resCount_0)\n",
    "\n",
    "resCount_1, resDf_1 = findOutliers(df_1,'velocity(c/s)')\n",
    "print(\"Price IQR Outliers: \", resCount_1)"
   ]
  },
  {
   "cell_type": "code",
   "execution_count": 72,
   "metadata": {
    "execution": {
     "iopub.execute_input": "2025-02-03T15:42:27.077467Z",
     "iopub.status.busy": "2025-02-03T15:42:27.077105Z",
     "iopub.status.idle": "2025-02-03T15:42:27.095527Z",
     "shell.execute_reply": "2025-02-03T15:42:27.094466Z",
     "shell.execute_reply.started": "2025-02-03T15:42:27.077435Z"
    },
    "executionInfo": {
     "elapsed": 378,
     "status": "ok",
     "timestamp": 1728226269973,
     "user": {
      "displayName": "Covie",
      "userId": "10423739331182877734"
     },
     "user_tz": 240
    },
    "id": "nfmdq1MMBv08",
    "outputId": "5bb1523f-5a01-4564-b9c0-3201dcd252d4",
    "trusted": true
   },
   "outputs": [
    {
     "name": "stdout",
     "output_type": "stream",
     "text": [
      "-97.34070205688478 105.1653480529785 202.50605010986328 -401.0997772216797 408.92442321777344\n",
      "-97.34070205688478 105.1653480529785 202.50605010986328 -401.0997772216797 408.92442321777344\n"
     ]
    }
   ],
   "source": [
    "q1_0 = df_0['velocity(c/s)'].quantile(0.25)\n",
    "q3_0 = df_0['velocity(c/s)'].quantile(0.75)\n",
    "\n",
    "iqr_0 = q3_0 - q1_0\n",
    "\n",
    "# Set up Min, Max for substitution for outliers\n",
    "Min_0 = q1_0 - 1.5 * iqr_0\n",
    "Max_0 = q3_0 + 1.5 * iqr_0\n",
    "\n",
    "q1_1 = df_1['velocity(c/s)'].quantile(0.25)\n",
    "q3_1 = df_1['velocity(c/s)'].quantile(0.75)\n",
    "\n",
    "iqr_1 = q3_1 - q1_1\n",
    "\n",
    "# Set up Min, Max for substitution for outliers\n",
    "Min_1 = q1_1 - 1.5 * iqr_1\n",
    "Max_1 = q3_1 + 1.5 * iqr_1\n",
    "\n",
    "print(q1_0, q3_0, iqr_0, Min_0, Max_0)\n",
    "print(q1_1, q3_1, iqr_1, Min_1, Max_1)"
   ]
  },
  {
   "cell_type": "code",
   "execution_count": 73,
   "metadata": {
    "execution": {
     "iopub.execute_input": "2025-02-03T15:42:27.097157Z",
     "iopub.status.busy": "2025-02-03T15:42:27.096743Z",
     "iopub.status.idle": "2025-02-03T15:42:27.116450Z",
     "shell.execute_reply": "2025-02-03T15:42:27.115614Z",
     "shell.execute_reply.started": "2025-02-03T15:42:27.097118Z"
    },
    "executionInfo": {
     "elapsed": 542,
     "status": "ok",
     "timestamp": 1728226276168,
     "user": {
      "displayName": "Covie",
      "userId": "10423739331182877734"
     },
     "user_tz": 240
    },
    "id": "Kv6wglCjCLie",
    "outputId": "dcdfe437-8e38-408c-f4bf-687002eb2aef",
    "trusted": true
   },
   "outputs": [
    {
     "data": {
      "text/html": [
       "<div>\n",
       "<style scoped>\n",
       "    .dataframe tbody tr th:only-of-type {\n",
       "        vertical-align: middle;\n",
       "    }\n",
       "\n",
       "    .dataframe tbody tr th {\n",
       "        vertical-align: top;\n",
       "    }\n",
       "\n",
       "    .dataframe thead th {\n",
       "        text-align: right;\n",
       "    }\n",
       "</style>\n",
       "<table border=\"1\" class=\"dataframe\">\n",
       "  <thead>\n",
       "    <tr style=\"text-align: right;\">\n",
       "      <th></th>\n",
       "      <th>rel_time(sec)</th>\n",
       "      <th>velocity(c/s)</th>\n",
       "    </tr>\n",
       "  </thead>\n",
       "  <tbody>\n",
       "    <tr>\n",
       "      <th>0</th>\n",
       "      <td>0.00</td>\n",
       "      <td>0.000000</td>\n",
       "    </tr>\n",
       "    <tr>\n",
       "      <th>1</th>\n",
       "      <td>0.05</td>\n",
       "      <td>0.000503</td>\n",
       "    </tr>\n",
       "    <tr>\n",
       "      <th>2</th>\n",
       "      <td>0.10</td>\n",
       "      <td>0.003635</td>\n",
       "    </tr>\n",
       "    <tr>\n",
       "      <th>3</th>\n",
       "      <td>0.15</td>\n",
       "      <td>0.010198</td>\n",
       "    </tr>\n",
       "    <tr>\n",
       "      <th>4</th>\n",
       "      <td>0.20</td>\n",
       "      <td>0.028214</td>\n",
       "    </tr>\n",
       "    <tr>\n",
       "      <th>...</th>\n",
       "      <td>...</td>\n",
       "      <td>...</td>\n",
       "    </tr>\n",
       "    <tr>\n",
       "      <th>71995</th>\n",
       "      <td>3599.75</td>\n",
       "      <td>0.010700</td>\n",
       "    </tr>\n",
       "    <tr>\n",
       "      <th>71996</th>\n",
       "      <td>3599.80</td>\n",
       "      <td>0.006193</td>\n",
       "    </tr>\n",
       "    <tr>\n",
       "      <th>71997</th>\n",
       "      <td>3599.85</td>\n",
       "      <td>0.002047</td>\n",
       "    </tr>\n",
       "    <tr>\n",
       "      <th>71998</th>\n",
       "      <td>3599.90</td>\n",
       "      <td>0.000555</td>\n",
       "    </tr>\n",
       "    <tr>\n",
       "      <th>71999</th>\n",
       "      <td>3599.95</td>\n",
       "      <td>0.000000</td>\n",
       "    </tr>\n",
       "  </tbody>\n",
       "</table>\n",
       "<p>72000 rows × 2 columns</p>\n",
       "</div>"
      ],
      "text/plain": [
       "       rel_time(sec)  velocity(c/s)\n",
       "0               0.00       0.000000\n",
       "1               0.05       0.000503\n",
       "2               0.10       0.003635\n",
       "3               0.15       0.010198\n",
       "4               0.20       0.028214\n",
       "...              ...            ...\n",
       "71995        3599.75       0.010700\n",
       "71996        3599.80       0.006193\n",
       "71997        3599.85       0.002047\n",
       "71998        3599.90       0.000555\n",
       "71999        3599.95       0.000000\n",
       "\n",
       "[72000 rows x 2 columns]"
      ]
     },
     "execution_count": 73,
     "metadata": {},
     "output_type": "execute_result"
    }
   ],
   "source": [
    "temp_0 = df_0\n",
    "temp_1 = df_1\n",
    "\n",
    "# Replacing anomalies in 'velocity(c/s)' using the calculated bounds\n",
    "temp_0['velocity(c/s)'] = temp_0['velocity(c/s)'].clip(lower = Min_0, upper = Max_0)\n",
    "temp_1['velocity(c/s)'] = temp_1['velocity(c/s)'].clip(lower = Min_1, upper = Max_1)\n",
    "\n",
    "\n",
    "temp_0"
   ]
  },
  {
   "cell_type": "markdown",
   "metadata": {},
   "source": [
    "<div style=\"background-color:#121212; color:#E0E0E0; padding:20px; border-radius:8px;font-family: 'Dancing Script', cursive;\">\n",
    "    <h2 style=\"color:#F1C40F;\">Plot of velocity over time</h2>\n",
    "    <p></p>\n",
    "</div>\n"
   ]
  },
  {
   "cell_type": "code",
   "execution_count": 74,
   "metadata": {
    "execution": {
     "iopub.execute_input": "2025-02-03T15:42:27.117661Z",
     "iopub.status.busy": "2025-02-03T15:42:27.117334Z",
     "iopub.status.idle": "2025-02-03T15:42:27.916988Z",
     "shell.execute_reply": "2025-02-03T15:42:27.915755Z",
     "shell.execute_reply.started": "2025-02-03T15:42:27.117613Z"
    },
    "executionInfo": {
     "elapsed": 874770,
     "status": "ok",
     "timestamp": 1728192626940,
     "user": {
      "displayName": "Covie",
      "userId": "10423739331182877734"
     },
     "user_tz": 240
    },
    "id": "-7ckZI2EdEip",
    "outputId": "cb6c8169-b432-4cc8-af67-f956911030c9",
    "trusted": true
   },
   "outputs": [
    {
     "data": {
      "image/png": "[encoded data removed]",
      "text/plain": [
       "<Figure size 1600x600 with 1 Axes>"
      ]
     },
     "metadata": {},
     "output_type": "display_data"
    }
   ],
   "source": [
    "import matplotlib.pyplot as plt\n",
    "\n",
    "# Read in time steps and velocities\n",
    "csv_times = temp_0.iloc[:36000,0]\n",
    "csv_data = temp_0.iloc[:36000,1]\n",
    "\n",
    "plt.plot(csv_times, csv_data)\n",
    "plt.show()"
   ]
  },
  {
   "cell_type": "code",
   "execution_count": 75,
   "metadata": {
    "execution": {
     "iopub.execute_input": "2025-02-03T15:42:27.918310Z",
     "iopub.status.busy": "2025-02-03T15:42:27.918007Z",
     "iopub.status.idle": "2025-02-03T15:42:27.930283Z",
     "shell.execute_reply": "2025-02-03T15:42:27.929315Z",
     "shell.execute_reply.started": "2025-02-03T15:42:27.918283Z"
    },
    "executionInfo": {
     "elapsed": 1793,
     "status": "ok",
     "timestamp": 1728226300517,
     "user": {
      "displayName": "Covie",
      "userId": "10423739331182877734"
     },
     "user_tz": 240
    },
    "id": "4tlf1JCZWC0q",
    "outputId": "ea8ce6bb-73a1-4c95-949d-45f10dda5d2b",
    "trusted": true
   },
   "outputs": [
    {
     "data": {
      "text/html": [
       "<div>\n",
       "<style scoped>\n",
       "    .dataframe tbody tr th:only-of-type {\n",
       "        vertical-align: middle;\n",
       "    }\n",
       "\n",
       "    .dataframe tbody tr th {\n",
       "        vertical-align: top;\n",
       "    }\n",
       "\n",
       "    .dataframe thead th {\n",
       "        text-align: right;\n",
       "    }\n",
       "</style>\n",
       "<table border=\"1\" class=\"dataframe\">\n",
       "  <thead>\n",
       "    <tr style=\"text-align: right;\">\n",
       "      <th></th>\n",
       "      <th>rel_time(sec)</th>\n",
       "      <th>velocity(c/s)</th>\n",
       "    </tr>\n",
       "  </thead>\n",
       "  <tbody>\n",
       "    <tr>\n",
       "      <th>0</th>\n",
       "      <td>0.00</td>\n",
       "      <td>0.000000</td>\n",
       "    </tr>\n",
       "    <tr>\n",
       "      <th>1</th>\n",
       "      <td>0.05</td>\n",
       "      <td>0.000503</td>\n",
       "    </tr>\n",
       "    <tr>\n",
       "      <th>2</th>\n",
       "      <td>0.10</td>\n",
       "      <td>0.003635</td>\n",
       "    </tr>\n",
       "    <tr>\n",
       "      <th>3</th>\n",
       "      <td>0.15</td>\n",
       "      <td>0.010198</td>\n",
       "    </tr>\n",
       "    <tr>\n",
       "      <th>4</th>\n",
       "      <td>0.20</td>\n",
       "      <td>0.028214</td>\n",
       "    </tr>\n",
       "    <tr>\n",
       "      <th>...</th>\n",
       "      <td>...</td>\n",
       "      <td>...</td>\n",
       "    </tr>\n",
       "    <tr>\n",
       "      <th>143995</th>\n",
       "      <td>3599.75</td>\n",
       "      <td>0.010700</td>\n",
       "    </tr>\n",
       "    <tr>\n",
       "      <th>143996</th>\n",
       "      <td>3599.80</td>\n",
       "      <td>0.006193</td>\n",
       "    </tr>\n",
       "    <tr>\n",
       "      <th>143997</th>\n",
       "      <td>3599.85</td>\n",
       "      <td>0.002047</td>\n",
       "    </tr>\n",
       "    <tr>\n",
       "      <th>143998</th>\n",
       "      <td>3599.90</td>\n",
       "      <td>0.000555</td>\n",
       "    </tr>\n",
       "    <tr>\n",
       "      <th>143999</th>\n",
       "      <td>3599.95</td>\n",
       "      <td>0.000000</td>\n",
       "    </tr>\n",
       "  </tbody>\n",
       "</table>\n",
       "<p>144000 rows × 2 columns</p>\n",
       "</div>"
      ],
      "text/plain": [
       "        rel_time(sec)  velocity(c/s)\n",
       "0                0.00       0.000000\n",
       "1                0.05       0.000503\n",
       "2                0.10       0.003635\n",
       "3                0.15       0.010198\n",
       "4                0.20       0.028214\n",
       "...               ...            ...\n",
       "143995        3599.75       0.010700\n",
       "143996        3599.80       0.006193\n",
       "143997        3599.85       0.002047\n",
       "143998        3599.90       0.000555\n",
       "143999        3599.95       0.000000\n",
       "\n",
       "[144000 rows x 2 columns]"
      ]
     },
     "execution_count": 75,
     "metadata": {},
     "output_type": "execute_result"
    }
   ],
   "source": [
    "m_df = pd.concat([temp_0, temp_1], ignore_index=True)\n",
    "\n",
    "m_df"
   ]
  },
  {
   "cell_type": "code",
   "execution_count": 76,
   "metadata": {
    "execution": {
     "iopub.execute_input": "2025-02-03T15:42:27.931858Z",
     "iopub.status.busy": "2025-02-03T15:42:27.931481Z",
     "iopub.status.idle": "2025-02-03T15:42:27.947057Z",
     "shell.execute_reply": "2025-02-03T15:42:27.946050Z",
     "shell.execute_reply.started": "2025-02-03T15:42:27.931823Z"
    },
    "id": "HJ_CmIELlKqH",
    "trusted": true
   },
   "outputs": [],
   "source": [
    "def create_sequences(X, y, time_steps=1):\n",
    "    Xs, ys = [], []\n",
    "    for i in range(len(X) - time_steps):\n",
    "        v = X.iloc[i:(i + time_steps)].values\n",
    "        Xs.append(v)\n",
    "        ys.append(y.iloc[i + time_steps])\n",
    "    return np.array(Xs), np.array(ys)"
   ]
  },
  {
   "cell_type": "markdown",
   "metadata": {},
   "source": [
    "\n",
    "<div style=\"background-color:#121212; color:#E0E0E0; padding:20px; border-radius:8px;font-family: 'Dancing Script', cursive;\">\n",
    "    <h2 style=\"color:#F1C40F;\">Training Model using LSTM Autoencoder</h2>\n",
    "    <p></p>\n",
    "</div>\n"
   ]
  },
  {
   "cell_type": "code",
   "execution_count": 77,
   "metadata": {
    "execution": {
     "iopub.execute_input": "2025-02-03T15:42:27.948478Z",
     "iopub.status.busy": "2025-02-03T15:42:27.948093Z",
     "iopub.status.idle": "2025-02-03T15:42:27.962865Z",
     "shell.execute_reply": "2025-02-03T15:42:27.961781Z",
     "shell.execute_reply.started": "2025-02-03T15:42:27.948451Z"
    },
    "id": "yLxuMDTtY3yt",
    "trusted": true
   },
   "outputs": [],
   "source": [
    "from sklearn.preprocessing import StandardScaler\n",
    "from tensorflow.keras.models import Sequential\n",
    "from tensorflow.keras.layers import Dense, LSTM, Dropout, RepeatVector, TimeDistributed\n",
    "from tensorflow.keras.callbacks import EarlyStopping\n",
    "import os\n",
    "import pandas as pd\n",
    "\n",
    "\n",
    "def trainModel():\n",
    "    scalar = StandardScaler()\n",
    "\n",
    "    scalar = scalar.fit(m_df[['velocity(c/s)']])  # scaler model\n",
    "\n",
    "    model = Sequential()\n",
    "\n",
    "    counter = 0\n",
    "\n",
    "    for i in range(2):\n",
    "        fileList = ['dataset_1', 'Dataset_2']\n",
    "        train_filename = fileList[i]\n",
    "        csv_directory = '/kaggle/input/martian-kriti/Martian/'\n",
    "\n",
    "        filepath = os.path.join(csv_directory, train_filename + \".csv\")\n",
    "\n",
    "        temp_df = pd.read_csv(filepath)\n",
    "\n",
    "\n",
    "        train = temp_df.rename(columns={'time(sec)': 'rel_time(sec)', 'velocity': 'velocity(c/s)'})\n",
    "\n",
    "        train = train[['rel_time(sec)', 'velocity(c/s)']]\n",
    "\n",
    "        #scaling\n",
    "        \n",
    "        train['velocity(c/s)'] = scalar.transform(train[['velocity(c/s)']])\n",
    "\n",
    "        time_steps = 30\n",
    "        X_train, y_train = create_sequences(train[['velocity(c/s)']], train['velocity(c/s)'], time_steps)\n",
    "\n",
    "        timesteps = X_train.shape[1]\n",
    "        num_features = X_train.shape[2]\n",
    "\n",
    "        # Defining LSTM model architecture\n",
    "        model.add(LSTM(128))\n",
    "        model.add(Dropout(0.2))\n",
    "        model.add(RepeatVector(timesteps))  # Repeats the input n times.\n",
    "        model.add(LSTM(128, return_sequences=True))\n",
    "        model.add(Dropout(0.2))\n",
    "        model.add(TimeDistributed(Dense(num_features)))  # Applying a layer to every temporal slice of an input.\n",
    "\n",
    "        model.compile(loss='mae', optimizer='adam')\n",
    "\n",
    "        # Early stopping callback\n",
    "        early_stop = EarlyStopping(monitor='val_loss', patience=3, mode='min')\n",
    "        history = model.fit(X_train, y_train, epochs=20, batch_size=128, validation_split=0.1, callbacks=[early_stop], shuffle=False)\n",
    "\n",
    "        # Saving the model after training each part\n",
    "        model.save(f'/kaggle/working/martian-kriti{counter}.h5')\n",
    "\n",
    "        counter += 1\n",
    "        currentindex = counter * 6\n",
    "\n",
    "        # Freezing layers as required\n",
    "        for layer in model.layers[:currentindex]:\n",
    "            layer.trainable = False\n",
    "    model.save('/kaggle/working/martian-kriti.h5')\n",
    "    model.summary()\n",
    "\n",
    "    return history, scalar\n"
   ]
  },
  {
   "cell_type": "code",
   "execution_count": 78,
   "metadata": {
    "execution": {
     "iopub.execute_input": "2025-02-03T15:42:27.964316Z",
     "iopub.status.busy": "2025-02-03T15:42:27.963962Z",
     "iopub.status.idle": "2025-02-03T16:14:11.096213Z",
     "shell.execute_reply": "2025-02-03T16:14:11.095368Z",
     "shell.execute_reply.started": "2025-02-03T15:42:27.964281Z"
    },
    "executionInfo": {
     "elapsed": 230991,
     "status": "ok",
     "timestamp": 1728200143203,
     "user": {
      "displayName": "Covie",
      "userId": "10423739331182877734"
     },
     "user_tz": 240
    },
    "id": "YfbrlISwbip1",
    "outputId": "e7766429-e19b-4c67-bdcd-061c8c6e929c",
    "trusted": true
   },
   "outputs": [
    {
     "name": "stdout",
     "output_type": "stream",
     "text": [
      "Epoch 1/20\n",
      "\u001b[1m507/507\u001b[0m \u001b[32m━━━━━━━━━━━━━━━━━━━━\u001b[0m\u001b[37m\u001b[0m \u001b[1m63s\u001b[0m 115ms/step - loss: 0.5976 - val_loss: 0.4036\n",
      "Epoch 2/20\n",
      "\u001b[1m507/507\u001b[0m \u001b[32m━━━━━━━━━━━━━━━━━━━━\u001b[0m\u001b[37m\u001b[0m \u001b[1m58s\u001b[0m 114ms/step - loss: 0.5968 - val_loss: 0.3628\n",
      "Epoch 3/20\n",
      "\u001b[1m507/507\u001b[0m \u001b[32m━━━━━━━━━━━━━━━━━━━━\u001b[0m\u001b[37m\u001b[0m \u001b[1m57s\u001b[0m 113ms/step - loss: 0.5926 - val_loss: 0.3282\n",
      "Epoch 4/20\n",
      "\u001b[1m507/507\u001b[0m \u001b[32m━━━━━━━━━━━━━━━━━━━━\u001b[0m\u001b[37m\u001b[0m \u001b[1m58s\u001b[0m 113ms/step - loss: 0.5926 - val_loss: 0.2978\n",
      "Epoch 5/20\n",
      "\u001b[1m507/507\u001b[0m \u001b[32m━━━━━━━━━━━━━━━━━━━━\u001b[0m\u001b[37m\u001b[0m \u001b[1m57s\u001b[0m 113ms/step - loss: 0.5886 - val_loss: 0.2800\n",
      "Epoch 6/20\n",
      "\u001b[1m507/507\u001b[0m \u001b[32m━━━━━━━━━━━━━━━━━━━━\u001b[0m\u001b[37m\u001b[0m \u001b[1m57s\u001b[0m 113ms/step - loss: 0.5874 - val_loss: 0.2843\n",
      "Epoch 7/20\n",
      "\u001b[1m507/507\u001b[0m \u001b[32m━━━━━━━━━━━━━━━━━━━━\u001b[0m\u001b[37m\u001b[0m \u001b[1m57s\u001b[0m 113ms/step - loss: 0.5879 - val_loss: 0.2707\n",
      "Epoch 8/20\n",
      "\u001b[1m507/507\u001b[0m \u001b[32m━━━━━━━━━━━━━━━━━━━━\u001b[0m\u001b[37m\u001b[0m \u001b[1m57s\u001b[0m 112ms/step - loss: 0.5862 - val_loss: 0.2825\n",
      "Epoch 9/20\n",
      "\u001b[1m507/507\u001b[0m \u001b[32m━━━━━━━━━━━━━━━━━━━━\u001b[0m\u001b[37m\u001b[0m \u001b[1m57s\u001b[0m 113ms/step - loss: 0.5864 - val_loss: 0.2712\n",
      "Epoch 10/20\n",
      "\u001b[1m507/507\u001b[0m \u001b[32m━━━━━━━━━━━━━━━━━━━━\u001b[0m\u001b[37m\u001b[0m \u001b[1m57s\u001b[0m 113ms/step - loss: 0.5869 - val_loss: 0.2706\n",
      "Epoch 11/20\n",
      "\u001b[1m507/507\u001b[0m \u001b[32m━━━━━━━━━━━━━━━━━━━━\u001b[0m\u001b[37m\u001b[0m \u001b[1m58s\u001b[0m 114ms/step - loss: 0.5851 - val_loss: 0.2770\n",
      "Epoch 12/20\n",
      "\u001b[1m507/507\u001b[0m \u001b[32m━━━━━━━━━━━━━━━━━━━━\u001b[0m\u001b[37m\u001b[0m \u001b[1m58s\u001b[0m 115ms/step - loss: 0.5888 - val_loss: 0.2753\n",
      "Epoch 13/20\n",
      "\u001b[1m507/507\u001b[0m \u001b[32m━━━━━━━━━━━━━━━━━━━━\u001b[0m\u001b[37m\u001b[0m \u001b[1m58s\u001b[0m 114ms/step - loss: 0.5850 - val_loss: 0.2764\n",
      "Epoch 1/20\n",
      "\u001b[1m507/507\u001b[0m \u001b[32m━━━━━━━━━━━━━━━━━━━━\u001b[0m\u001b[37m\u001b[0m \u001b[1m89s\u001b[0m 162ms/step - loss: 0.4765 - val_loss: 0.3172\n",
      "Epoch 2/20\n",
      "\u001b[1m507/507\u001b[0m \u001b[32m━━━━━━━━━━━━━━━━━━━━\u001b[0m\u001b[37m\u001b[0m \u001b[1m81s\u001b[0m 160ms/step - loss: 0.4706 - val_loss: 0.3174\n",
      "Epoch 3/20\n",
      "\u001b[1m507/507\u001b[0m \u001b[32m━━━━━━━━━━━━━━━━━━━━\u001b[0m\u001b[37m\u001b[0m \u001b[1m81s\u001b[0m 159ms/step - loss: 0.4698 - val_loss: 0.3136\n",
      "Epoch 4/20\n",
      "\u001b[1m507/507\u001b[0m \u001b[32m━━━━━━━━━━━━━━━━━━━━\u001b[0m\u001b[37m\u001b[0m \u001b[1m81s\u001b[0m 161ms/step - loss: 0.4694 - val_loss: 0.3148\n",
      "Epoch 5/20\n",
      "\u001b[1m507/507\u001b[0m \u001b[32m━━━━━━━━━━━━━━━━━━━━\u001b[0m\u001b[37m\u001b[0m \u001b[1m80s\u001b[0m 158ms/step - loss: 0.4694 - val_loss: 0.3138\n",
      "Epoch 6/20\n",
      "\u001b[1m507/507\u001b[0m \u001b[32m━━━━━━━━━━━━━━━━━━━━\u001b[0m\u001b[37m\u001b[0m \u001b[1m81s\u001b[0m 159ms/step - loss: 0.4689 - val_loss: 0.3121\n",
      "Epoch 7/20\n",
      "\u001b[1m507/507\u001b[0m \u001b[32m━━━━━━━━━━━━━━━━━━━━\u001b[0m\u001b[37m\u001b[0m \u001b[1m81s\u001b[0m 159ms/step - loss: 0.4688 - val_loss: 0.3111\n",
      "Epoch 8/20\n",
      "\u001b[1m507/507\u001b[0m \u001b[32m━━━━━━━━━━━━━━━━━━━━\u001b[0m\u001b[37m\u001b[0m \u001b[1m82s\u001b[0m 161ms/step - loss: 0.4696 - val_loss: 0.3101\n",
      "Epoch 9/20\n",
      "\u001b[1m507/507\u001b[0m \u001b[32m━━━━━━━━━━━━━━━━━━━━\u001b[0m\u001b[37m\u001b[0m \u001b[1m81s\u001b[0m 160ms/step - loss: 0.4687 - val_loss: 0.3098\n",
      "Epoch 10/20\n",
      "\u001b[1m507/507\u001b[0m \u001b[32m━━━━━━━━━━━━━━━━━━━━\u001b[0m\u001b[37m\u001b[0m \u001b[1m82s\u001b[0m 162ms/step - loss: 0.4690 - val_loss: 0.3123\n",
      "Epoch 11/20\n",
      "\u001b[1m507/507\u001b[0m \u001b[32m━━━━━━━━━━━━━━━━━━━━\u001b[0m\u001b[37m\u001b[0m \u001b[1m82s\u001b[0m 161ms/step - loss: 0.4685 - val_loss: 0.3069\n",
      "Epoch 12/20\n",
      "\u001b[1m507/507\u001b[0m \u001b[32m━━━━━━━━━━━━━━━━━━━━\u001b[0m\u001b[37m\u001b[0m \u001b[1m82s\u001b[0m 162ms/step - loss: 0.4689 - val_loss: 0.3076\n",
      "Epoch 13/20\n",
      "\u001b[1m507/507\u001b[0m \u001b[32m━━━━━━━━━━━━━━━━━━━━\u001b[0m\u001b[37m\u001b[0m \u001b[1m81s\u001b[0m 160ms/step - loss: 0.4690 - val_loss: 0.3094\n",
      "Epoch 14/20\n",
      "\u001b[1m507/507\u001b[0m \u001b[32m━━━━━━━━━━━━━━━━━━━━\u001b[0m\u001b[37m\u001b[0m \u001b[1m82s\u001b[0m 161ms/step - loss: 0.4685 - val_loss: 0.3087\n"
     ]
    },
    {
     "data": {
      "text/html": [
       "<pre style=\"white-space:pre;overflow-x:auto;line-height:normal;font-family:Menlo,'DejaVu Sans Mono',consolas,'Courier New',monospace\"><span style=\"font-weight: bold\">Model: \"sequential_4\"</span>\n",
       "</pre>\n"
      ],
      "text/plain": [
       "\u001b[1mModel: \"sequential_4\"\u001b[0m\n"
      ]
     },
     "metadata": {},
     "output_type": "display_data"
    },
    {
     "data": {
      "text/html": [
       "<pre style=\"white-space:pre;overflow-x:auto;line-height:normal;font-family:Menlo,'DejaVu Sans Mono',consolas,'Courier New',monospace\">┏━━━━━━━━━━━━━━━━━━━━━━━━━━━━━━━━━━━━━━┳━━━━━━━━━━━━━━━━━━━━━━━━━━━━━┳━━━━━━━━━━━━━━━━━┓\n",
       "┃<span style=\"font-weight: bold\"> Layer (type)                         </span>┃<span style=\"font-weight: bold\"> Output Shape                </span>┃<span style=\"font-weight: bold\">         Param # </span>┃\n",
       "┡━━━━━━━━━━━━━━━━━━━━━━━━━━━━━━━━━━━━━━╇━━━━━━━━━━━━━━━━━━━━━━━━━━━━━╇━━━━━━━━━━━━━━━━━┩\n",
       "│ lstm_14 (<span style=\"color: #0087ff; text-decoration-color: #0087ff\">LSTM</span>)                       │ (<span style=\"color: #00d7ff; text-decoration-color: #00d7ff\">None</span>, <span style=\"color: #00af00; text-decoration-color: #00af00\">128</span>)                 │          <span style=\"color: #00af00; text-decoration-color: #00af00\">66,560</span> │\n",
       "├──────────────────────────────────────┼─────────────────────────────┼─────────────────┤\n",
       "│ dropout_14 (<span style=\"color: #0087ff; text-decoration-color: #0087ff\">Dropout</span>)                 │ (<span style=\"color: #00d7ff; text-decoration-color: #00d7ff\">None</span>, <span style=\"color: #00af00; text-decoration-color: #00af00\">128</span>)                 │               <span style=\"color: #00af00; text-decoration-color: #00af00\">0</span> │\n",
       "├──────────────────────────────────────┼─────────────────────────────┼─────────────────┤\n",
       "│ repeat_vector_7 (<span style=\"color: #0087ff; text-decoration-color: #0087ff\">RepeatVector</span>)       │ (<span style=\"color: #00d7ff; text-decoration-color: #00d7ff\">None</span>, <span style=\"color: #00af00; text-decoration-color: #00af00\">30</span>, <span style=\"color: #00af00; text-decoration-color: #00af00\">128</span>)             │               <span style=\"color: #00af00; text-decoration-color: #00af00\">0</span> │\n",
       "├──────────────────────────────────────┼─────────────────────────────┼─────────────────┤\n",
       "│ lstm_15 (<span style=\"color: #0087ff; text-decoration-color: #0087ff\">LSTM</span>)                       │ (<span style=\"color: #00d7ff; text-decoration-color: #00d7ff\">None</span>, <span style=\"color: #00af00; text-decoration-color: #00af00\">30</span>, <span style=\"color: #00af00; text-decoration-color: #00af00\">128</span>)             │         <span style=\"color: #00af00; text-decoration-color: #00af00\">131,584</span> │\n",
       "├──────────────────────────────────────┼─────────────────────────────┼─────────────────┤\n",
       "│ dropout_15 (<span style=\"color: #0087ff; text-decoration-color: #0087ff\">Dropout</span>)                 │ (<span style=\"color: #00d7ff; text-decoration-color: #00d7ff\">None</span>, <span style=\"color: #00af00; text-decoration-color: #00af00\">30</span>, <span style=\"color: #00af00; text-decoration-color: #00af00\">128</span>)             │               <span style=\"color: #00af00; text-decoration-color: #00af00\">0</span> │\n",
       "├──────────────────────────────────────┼─────────────────────────────┼─────────────────┤\n",
       "│ time_distributed_7 (<span style=\"color: #0087ff; text-decoration-color: #0087ff\">TimeDistributed</span>) │ (<span style=\"color: #00d7ff; text-decoration-color: #00d7ff\">None</span>, <span style=\"color: #00af00; text-decoration-color: #00af00\">30</span>, <span style=\"color: #00af00; text-decoration-color: #00af00\">1</span>)               │             <span style=\"color: #00af00; text-decoration-color: #00af00\">129</span> │\n",
       "├──────────────────────────────────────┼─────────────────────────────┼─────────────────┤\n",
       "│ lstm_16 (<span style=\"color: #0087ff; text-decoration-color: #0087ff\">LSTM</span>)                       │ (<span style=\"color: #00d7ff; text-decoration-color: #00d7ff\">None</span>, <span style=\"color: #00af00; text-decoration-color: #00af00\">128</span>)                 │          <span style=\"color: #00af00; text-decoration-color: #00af00\">66,560</span> │\n",
       "├──────────────────────────────────────┼─────────────────────────────┼─────────────────┤\n",
       "│ dropout_16 (<span style=\"color: #0087ff; text-decoration-color: #0087ff\">Dropout</span>)                 │ (<span style=\"color: #00d7ff; text-decoration-color: #00d7ff\">None</span>, <span style=\"color: #00af00; text-decoration-color: #00af00\">128</span>)                 │               <span style=\"color: #00af00; text-decoration-color: #00af00\">0</span> │\n",
       "├──────────────────────────────────────┼─────────────────────────────┼─────────────────┤\n",
       "│ repeat_vector_8 (<span style=\"color: #0087ff; text-decoration-color: #0087ff\">RepeatVector</span>)       │ (<span style=\"color: #00d7ff; text-decoration-color: #00d7ff\">None</span>, <span style=\"color: #00af00; text-decoration-color: #00af00\">30</span>, <span style=\"color: #00af00; text-decoration-color: #00af00\">128</span>)             │               <span style=\"color: #00af00; text-decoration-color: #00af00\">0</span> │\n",
       "├──────────────────────────────────────┼─────────────────────────────┼─────────────────┤\n",
       "│ lstm_17 (<span style=\"color: #0087ff; text-decoration-color: #0087ff\">LSTM</span>)                       │ (<span style=\"color: #00d7ff; text-decoration-color: #00d7ff\">None</span>, <span style=\"color: #00af00; text-decoration-color: #00af00\">30</span>, <span style=\"color: #00af00; text-decoration-color: #00af00\">128</span>)             │         <span style=\"color: #00af00; text-decoration-color: #00af00\">131,584</span> │\n",
       "├──────────────────────────────────────┼─────────────────────────────┼─────────────────┤\n",
       "│ dropout_17 (<span style=\"color: #0087ff; text-decoration-color: #0087ff\">Dropout</span>)                 │ (<span style=\"color: #00d7ff; text-decoration-color: #00d7ff\">None</span>, <span style=\"color: #00af00; text-decoration-color: #00af00\">30</span>, <span style=\"color: #00af00; text-decoration-color: #00af00\">128</span>)             │               <span style=\"color: #00af00; text-decoration-color: #00af00\">0</span> │\n",
       "├──────────────────────────────────────┼─────────────────────────────┼─────────────────┤\n",
       "│ time_distributed_8 (<span style=\"color: #0087ff; text-decoration-color: #0087ff\">TimeDistributed</span>) │ (<span style=\"color: #00d7ff; text-decoration-color: #00d7ff\">None</span>, <span style=\"color: #00af00; text-decoration-color: #00af00\">30</span>, <span style=\"color: #00af00; text-decoration-color: #00af00\">1</span>)               │             <span style=\"color: #00af00; text-decoration-color: #00af00\">129</span> │\n",
       "└──────────────────────────────────────┴─────────────────────────────┴─────────────────┘\n",
       "</pre>\n"
      ],
      "text/plain": [
       "┏━━━━━━━━━━━━━━━━━━━━━━━━━━━━━━━━━━━━━━┳━━━━━━━━━━━━━━━━━━━━━━━━━━━━━┳━━━━━━━━━━━━━━━━━┓\n",
       "┃\u001b[1m \u001b[0m\u001b[1mLayer (type)                        \u001b[0m\u001b[1m \u001b[0m┃\u001b[1m \u001b[0m\u001b[1mOutput Shape               \u001b[0m\u001b[1m \u001b[0m┃\u001b[1m \u001b[0m\u001b[1m        Param #\u001b[0m\u001b[1m \u001b[0m┃\n",
       "┡━━━━━━━━━━━━━━━━━━━━━━━━━━━━━━━━━━━━━━╇━━━━━━━━━━━━━━━━━━━━━━━━━━━━━╇━━━━━━━━━━━━━━━━━┩\n",
       "│ lstm_14 (\u001b[38;5;33mLSTM\u001b[0m)                       │ (\u001b[38;5;45mNone\u001b[0m, \u001b[38;5;34m128\u001b[0m)                 │          \u001b[38;5;34m66,560\u001b[0m │\n",
       "├──────────────────────────────────────┼─────────────────────────────┼─────────────────┤\n",
       "│ dropout_14 (\u001b[38;5;33mDropout\u001b[0m)                 │ (\u001b[38;5;45mNone\u001b[0m, \u001b[38;5;34m128\u001b[0m)                 │               \u001b[38;5;34m0\u001b[0m │\n",
       "├──────────────────────────────────────┼─────────────────────────────┼─────────────────┤\n",
       "│ repeat_vector_7 (\u001b[38;5;33mRepeatVector\u001b[0m)       │ (\u001b[38;5;45mNone\u001b[0m, \u001b[38;5;34m30\u001b[0m, \u001b[38;5;34m128\u001b[0m)             │               \u001b[38;5;34m0\u001b[0m │\n",
       "├──────────────────────────────────────┼─────────────────────────────┼─────────────────┤\n",
       "│ lstm_15 (\u001b[38;5;33mLSTM\u001b[0m)                       │ (\u001b[38;5;45mNone\u001b[0m, \u001b[38;5;34m30\u001b[0m, \u001b[38;5;34m128\u001b[0m)             │         \u001b[38;5;34m131,584\u001b[0m │\n",
       "├──────────────────────────────────────┼─────────────────────────────┼─────────────────┤\n",
       "│ dropout_15 (\u001b[38;5;33mDropout\u001b[0m)                 │ (\u001b[38;5;45mNone\u001b[0m, \u001b[38;5;34m30\u001b[0m, \u001b[38;5;34m128\u001b[0m)             │               \u001b[38;5;34m0\u001b[0m │\n",
       "├──────────────────────────────────────┼─────────────────────────────┼─────────────────┤\n",
       "│ time_distributed_7 (\u001b[38;5;33mTimeDistributed\u001b[0m) │ (\u001b[38;5;45mNone\u001b[0m, \u001b[38;5;34m30\u001b[0m, \u001b[38;5;34m1\u001b[0m)               │             \u001b[38;5;34m129\u001b[0m │\n",
       "├──────────────────────────────────────┼─────────────────────────────┼─────────────────┤\n",
       "│ lstm_16 (\u001b[38;5;33mLSTM\u001b[0m)                       │ (\u001b[38;5;45mNone\u001b[0m, \u001b[38;5;34m128\u001b[0m)                 │          \u001b[38;5;34m66,560\u001b[0m │\n",
       "├──────────────────────────────────────┼─────────────────────────────┼─────────────────┤\n",
       "│ dropout_16 (\u001b[38;5;33mDropout\u001b[0m)                 │ (\u001b[38;5;45mNone\u001b[0m, \u001b[38;5;34m128\u001b[0m)                 │               \u001b[38;5;34m0\u001b[0m │\n",
       "├──────────────────────────────────────┼─────────────────────────────┼─────────────────┤\n",
       "│ repeat_vector_8 (\u001b[38;5;33mRepeatVector\u001b[0m)       │ (\u001b[38;5;45mNone\u001b[0m, \u001b[38;5;34m30\u001b[0m, \u001b[38;5;34m128\u001b[0m)             │               \u001b[38;5;34m0\u001b[0m │\n",
       "├──────────────────────────────────────┼─────────────────────────────┼─────────────────┤\n",
       "│ lstm_17 (\u001b[38;5;33mLSTM\u001b[0m)                       │ (\u001b[38;5;45mNone\u001b[0m, \u001b[38;5;34m30\u001b[0m, \u001b[38;5;34m128\u001b[0m)             │         \u001b[38;5;34m131,584\u001b[0m │\n",
       "├──────────────────────────────────────┼─────────────────────────────┼─────────────────┤\n",
       "│ dropout_17 (\u001b[38;5;33mDropout\u001b[0m)                 │ (\u001b[38;5;45mNone\u001b[0m, \u001b[38;5;34m30\u001b[0m, \u001b[38;5;34m128\u001b[0m)             │               \u001b[38;5;34m0\u001b[0m │\n",
       "├──────────────────────────────────────┼─────────────────────────────┼─────────────────┤\n",
       "│ time_distributed_8 (\u001b[38;5;33mTimeDistributed\u001b[0m) │ (\u001b[38;5;45mNone\u001b[0m, \u001b[38;5;34m30\u001b[0m, \u001b[38;5;34m1\u001b[0m)               │             \u001b[38;5;34m129\u001b[0m │\n",
       "└──────────────────────────────────────┴─────────────────────────────┴─────────────────┘\n"
      ]
     },
     "metadata": {},
     "output_type": "display_data"
    },
    {
     "data": {
      "text/html": [
       "<pre style=\"white-space:pre;overflow-x:auto;line-height:normal;font-family:Menlo,'DejaVu Sans Mono',consolas,'Courier New',monospace\"><span style=\"font-weight: bold\"> Total params: </span><span style=\"color: #00af00; text-decoration-color: #00af00\">793,094</span> (3.03 MB)\n",
       "</pre>\n"
      ],
      "text/plain": [
       "\u001b[1m Total params: \u001b[0m\u001b[38;5;34m793,094\u001b[0m (3.03 MB)\n"
      ]
     },
     "metadata": {},
     "output_type": "display_data"
    },
    {
     "data": {
      "text/html": [
       "<pre style=\"white-space:pre;overflow-x:auto;line-height:normal;font-family:Menlo,'DejaVu Sans Mono',consolas,'Courier New',monospace\"><span style=\"font-weight: bold\"> Trainable params: </span><span style=\"color: #00af00; text-decoration-color: #00af00\">0</span> (0.00 B)\n",
       "</pre>\n"
      ],
      "text/plain": [
       "\u001b[1m Trainable params: \u001b[0m\u001b[38;5;34m0\u001b[0m (0.00 B)\n"
      ]
     },
     "metadata": {},
     "output_type": "display_data"
    },
    {
     "data": {
      "text/html": [
       "<pre style=\"white-space:pre;overflow-x:auto;line-height:normal;font-family:Menlo,'DejaVu Sans Mono',consolas,'Courier New',monospace\"><span style=\"font-weight: bold\"> Non-trainable params: </span><span style=\"color: #00af00; text-decoration-color: #00af00\">396,546</span> (1.51 MB)\n",
       "</pre>\n"
      ],
      "text/plain": [
       "\u001b[1m Non-trainable params: \u001b[0m\u001b[38;5;34m396,546\u001b[0m (1.51 MB)\n"
      ]
     },
     "metadata": {},
     "output_type": "display_data"
    },
    {
     "data": {
      "text/html": [
       "<pre style=\"white-space:pre;overflow-x:auto;line-height:normal;font-family:Menlo,'DejaVu Sans Mono',consolas,'Courier New',monospace\"><span style=\"font-weight: bold\"> Optimizer params: </span><span style=\"color: #00af00; text-decoration-color: #00af00\">396,548</span> (1.51 MB)\n",
       "</pre>\n"
      ],
      "text/plain": [
       "\u001b[1m Optimizer params: \u001b[0m\u001b[38;5;34m396,548\u001b[0m (1.51 MB)\n"
      ]
     },
     "metadata": {},
     "output_type": "display_data"
    }
   ],
   "source": [
    "history, scalar = trainModel()"
   ]
  },
  {
   "cell_type": "code",
   "execution_count": 79,
   "metadata": {
    "execution": {
     "iopub.execute_input": "2025-02-03T16:14:11.097887Z",
     "iopub.status.busy": "2025-02-03T16:14:11.097475Z",
     "iopub.status.idle": "2025-02-03T16:14:11.102446Z",
     "shell.execute_reply": "2025-02-03T16:14:11.101482Z",
     "shell.execute_reply.started": "2025-02-03T16:14:11.097818Z"
    },
    "executionInfo": {
     "elapsed": 669,
     "status": "ok",
     "timestamp": 1728200553398,
     "user": {
      "displayName": "Covie",
      "userId": "10423739331182877734"
     },
     "user_tz": 240
    },
    "id": "kQSiWcT_G_CY",
    "outputId": "4b1f5a3a-71cd-4184-d3fe-dff61602121f",
    "trusted": true
   },
   "outputs": [
    {
     "name": "stdout",
     "output_type": "stream",
     "text": [
      "{'loss': [0.4319508373737335, 0.42876020073890686, 0.4276260733604431, 0.42691677808761597, 0.42680713534355164, 0.4262616038322449, 0.4266599714756012, 0.4267234206199646, 0.4261963367462158, 0.4263581335544586, 0.4260443449020386, 0.42647817730903625, 0.42614060640335083, 0.4257625341415405], 'val_loss': [0.3171907961368561, 0.31743893027305603, 0.31363970041275024, 0.3148423731327057, 0.31380268931388855, 0.31213152408599854, 0.3111211359500885, 0.3100797235965729, 0.3098161518573761, 0.3122803568840027, 0.30693480372428894, 0.3075915277004242, 0.30943313241004944, 0.3087017238140106]}\n"
     ]
    }
   ],
   "source": [
    "print(history.history)"
   ]
  },
  {
   "cell_type": "code",
   "execution_count": 80,
   "metadata": {
    "execution": {
     "iopub.execute_input": "2025-02-03T16:14:11.103796Z",
     "iopub.status.busy": "2025-02-03T16:14:11.103453Z",
     "iopub.status.idle": "2025-02-03T16:14:11.120310Z",
     "shell.execute_reply": "2025-02-03T16:14:11.119260Z",
     "shell.execute_reply.started": "2025-02-03T16:14:11.103762Z"
    },
    "executionInfo": {
     "elapsed": 142,
     "status": "ok",
     "timestamp": 1728134445163,
     "user": {
      "displayName": "Chanhui Lee",
      "userId": "16408719030630900867"
     },
     "user_tz": 240
    },
    "id": "eMQFNDI81q5k",
    "outputId": "79650343-031b-4369-a454-fe43333bd57c",
    "trusted": true
   },
   "outputs": [
    {
     "name": "stdout",
     "output_type": "stream",
     "text": [
      "StandardScaler()\n"
     ]
    }
   ],
   "source": [
    "print(scalar)"
   ]
  },
  {
   "cell_type": "code",
   "execution_count": 81,
   "metadata": {
    "execution": {
     "iopub.execute_input": "2025-02-03T16:14:11.121513Z",
     "iopub.status.busy": "2025-02-03T16:14:11.121240Z",
     "iopub.status.idle": "2025-02-03T16:14:11.479789Z",
     "shell.execute_reply": "2025-02-03T16:14:11.478703Z",
     "shell.execute_reply.started": "2025-02-03T16:14:11.121490Z"
    },
    "executionInfo": {
     "elapsed": 603,
     "status": "ok",
     "timestamp": 1728200164579,
     "user": {
      "displayName": "Covie",
      "userId": "10423739331182877734"
     },
     "user_tz": 240
    },
    "id": "2GYE03C1TUv0",
    "outputId": "622f3212-f5bd-4555-c2bf-801b6a7b999e",
    "trusted": true
   },
   "outputs": [
    {
     "data": {
      "image/png": "[encoded data removed]",
      "text/plain": [
       "<Figure size 1600x600 with 1 Axes>"
      ]
     },
     "metadata": {},
     "output_type": "display_data"
    }
   ],
   "source": [
    "err = pd.DataFrame(history.history)\n",
    "err.plot()\n",
    "plt.xlabel('Number of Epochs')\n",
    "plt.ylabel('Loss');"
   ]
  },
  {
   "cell_type": "code",
   "execution_count": 82,
   "metadata": {
    "execution": {
     "iopub.execute_input": "2025-02-03T16:14:11.481229Z",
     "iopub.status.busy": "2025-02-03T16:14:11.480841Z",
     "iopub.status.idle": "2025-02-03T16:14:11.699636Z",
     "shell.execute_reply": "2025-02-03T16:14:11.698815Z",
     "shell.execute_reply.started": "2025-02-03T16:14:11.481192Z"
    },
    "executionInfo": {
     "elapsed": 2392,
     "status": "ok",
     "timestamp": 1728224979598,
     "user": {
      "displayName": "Covie",
      "userId": "10423739331182877734"
     },
     "user_tz": 240
    },
    "id": "8NAfPdHuYnek",
    "outputId": "5ef668a5-d45c-41a9-aa6e-5b500b43cda8",
    "trusted": true
   },
   "outputs": [
    {
     "name": "stdout",
     "output_type": "stream",
     "text": [
      "<Sequential name=sequential_4, built=True>\n"
     ]
    },
    {
     "data": {
      "text/html": [
       "<pre style=\"white-space:pre;overflow-x:auto;line-height:normal;font-family:Menlo,'DejaVu Sans Mono',consolas,'Courier New',monospace\"><span style=\"font-weight: bold\">Model: \"sequential_4\"</span>\n",
       "</pre>\n"
      ],
      "text/plain": [
       "\u001b[1mModel: \"sequential_4\"\u001b[0m\n"
      ]
     },
     "metadata": {},
     "output_type": "display_data"
    },
    {
     "data": {
      "text/html": [
       "<pre style=\"white-space:pre;overflow-x:auto;line-height:normal;font-family:Menlo,'DejaVu Sans Mono',consolas,'Courier New',monospace\">┏━━━━━━━━━━━━━━━━━━━━━━━━━━━━━━━━━━━━━━┳━━━━━━━━━━━━━━━━━━━━━━━━━━━━━┳━━━━━━━━━━━━━━━━━┓\n",
       "┃<span style=\"font-weight: bold\"> Layer (type)                         </span>┃<span style=\"font-weight: bold\"> Output Shape                </span>┃<span style=\"font-weight: bold\">         Param # </span>┃\n",
       "┡━━━━━━━━━━━━━━━━━━━━━━━━━━━━━━━━━━━━━━╇━━━━━━━━━━━━━━━━━━━━━━━━━━━━━╇━━━━━━━━━━━━━━━━━┩\n",
       "│ lstm_14 (<span style=\"color: #0087ff; text-decoration-color: #0087ff\">LSTM</span>)                       │ (<span style=\"color: #00d7ff; text-decoration-color: #00d7ff\">None</span>, <span style=\"color: #00af00; text-decoration-color: #00af00\">128</span>)                 │          <span style=\"color: #00af00; text-decoration-color: #00af00\">66,560</span> │\n",
       "├──────────────────────────────────────┼─────────────────────────────┼─────────────────┤\n",
       "│ dropout_14 (<span style=\"color: #0087ff; text-decoration-color: #0087ff\">Dropout</span>)                 │ (<span style=\"color: #00d7ff; text-decoration-color: #00d7ff\">None</span>, <span style=\"color: #00af00; text-decoration-color: #00af00\">128</span>)                 │               <span style=\"color: #00af00; text-decoration-color: #00af00\">0</span> │\n",
       "├──────────────────────────────────────┼─────────────────────────────┼─────────────────┤\n",
       "│ repeat_vector_7 (<span style=\"color: #0087ff; text-decoration-color: #0087ff\">RepeatVector</span>)       │ (<span style=\"color: #00d7ff; text-decoration-color: #00d7ff\">None</span>, <span style=\"color: #00af00; text-decoration-color: #00af00\">30</span>, <span style=\"color: #00af00; text-decoration-color: #00af00\">128</span>)             │               <span style=\"color: #00af00; text-decoration-color: #00af00\">0</span> │\n",
       "├──────────────────────────────────────┼─────────────────────────────┼─────────────────┤\n",
       "│ lstm_15 (<span style=\"color: #0087ff; text-decoration-color: #0087ff\">LSTM</span>)                       │ (<span style=\"color: #00d7ff; text-decoration-color: #00d7ff\">None</span>, <span style=\"color: #00af00; text-decoration-color: #00af00\">30</span>, <span style=\"color: #00af00; text-decoration-color: #00af00\">128</span>)             │         <span style=\"color: #00af00; text-decoration-color: #00af00\">131,584</span> │\n",
       "├──────────────────────────────────────┼─────────────────────────────┼─────────────────┤\n",
       "│ dropout_15 (<span style=\"color: #0087ff; text-decoration-color: #0087ff\">Dropout</span>)                 │ (<span style=\"color: #00d7ff; text-decoration-color: #00d7ff\">None</span>, <span style=\"color: #00af00; text-decoration-color: #00af00\">30</span>, <span style=\"color: #00af00; text-decoration-color: #00af00\">128</span>)             │               <span style=\"color: #00af00; text-decoration-color: #00af00\">0</span> │\n",
       "├──────────────────────────────────────┼─────────────────────────────┼─────────────────┤\n",
       "│ time_distributed_7 (<span style=\"color: #0087ff; text-decoration-color: #0087ff\">TimeDistributed</span>) │ (<span style=\"color: #00d7ff; text-decoration-color: #00d7ff\">None</span>, <span style=\"color: #00af00; text-decoration-color: #00af00\">30</span>, <span style=\"color: #00af00; text-decoration-color: #00af00\">1</span>)               │             <span style=\"color: #00af00; text-decoration-color: #00af00\">129</span> │\n",
       "├──────────────────────────────────────┼─────────────────────────────┼─────────────────┤\n",
       "│ lstm_16 (<span style=\"color: #0087ff; text-decoration-color: #0087ff\">LSTM</span>)                       │ (<span style=\"color: #00d7ff; text-decoration-color: #00d7ff\">None</span>, <span style=\"color: #00af00; text-decoration-color: #00af00\">128</span>)                 │          <span style=\"color: #00af00; text-decoration-color: #00af00\">66,560</span> │\n",
       "├──────────────────────────────────────┼─────────────────────────────┼─────────────────┤\n",
       "│ dropout_16 (<span style=\"color: #0087ff; text-decoration-color: #0087ff\">Dropout</span>)                 │ (<span style=\"color: #00d7ff; text-decoration-color: #00d7ff\">None</span>, <span style=\"color: #00af00; text-decoration-color: #00af00\">128</span>)                 │               <span style=\"color: #00af00; text-decoration-color: #00af00\">0</span> │\n",
       "├──────────────────────────────────────┼─────────────────────────────┼─────────────────┤\n",
       "│ repeat_vector_8 (<span style=\"color: #0087ff; text-decoration-color: #0087ff\">RepeatVector</span>)       │ (<span style=\"color: #00d7ff; text-decoration-color: #00d7ff\">None</span>, <span style=\"color: #00af00; text-decoration-color: #00af00\">30</span>, <span style=\"color: #00af00; text-decoration-color: #00af00\">128</span>)             │               <span style=\"color: #00af00; text-decoration-color: #00af00\">0</span> │\n",
       "├──────────────────────────────────────┼─────────────────────────────┼─────────────────┤\n",
       "│ lstm_17 (<span style=\"color: #0087ff; text-decoration-color: #0087ff\">LSTM</span>)                       │ (<span style=\"color: #00d7ff; text-decoration-color: #00d7ff\">None</span>, <span style=\"color: #00af00; text-decoration-color: #00af00\">30</span>, <span style=\"color: #00af00; text-decoration-color: #00af00\">128</span>)             │         <span style=\"color: #00af00; text-decoration-color: #00af00\">131,584</span> │\n",
       "├──────────────────────────────────────┼─────────────────────────────┼─────────────────┤\n",
       "│ dropout_17 (<span style=\"color: #0087ff; text-decoration-color: #0087ff\">Dropout</span>)                 │ (<span style=\"color: #00d7ff; text-decoration-color: #00d7ff\">None</span>, <span style=\"color: #00af00; text-decoration-color: #00af00\">30</span>, <span style=\"color: #00af00; text-decoration-color: #00af00\">128</span>)             │               <span style=\"color: #00af00; text-decoration-color: #00af00\">0</span> │\n",
       "├──────────────────────────────────────┼─────────────────────────────┼─────────────────┤\n",
       "│ time_distributed_8 (<span style=\"color: #0087ff; text-decoration-color: #0087ff\">TimeDistributed</span>) │ (<span style=\"color: #00d7ff; text-decoration-color: #00d7ff\">None</span>, <span style=\"color: #00af00; text-decoration-color: #00af00\">30</span>, <span style=\"color: #00af00; text-decoration-color: #00af00\">1</span>)               │             <span style=\"color: #00af00; text-decoration-color: #00af00\">129</span> │\n",
       "└──────────────────────────────────────┴─────────────────────────────┴─────────────────┘\n",
       "</pre>\n"
      ],
      "text/plain": [
       "┏━━━━━━━━━━━━━━━━━━━━━━━━━━━━━━━━━━━━━━┳━━━━━━━━━━━━━━━━━━━━━━━━━━━━━┳━━━━━━━━━━━━━━━━━┓\n",
       "┃\u001b[1m \u001b[0m\u001b[1mLayer (type)                        \u001b[0m\u001b[1m \u001b[0m┃\u001b[1m \u001b[0m\u001b[1mOutput Shape               \u001b[0m\u001b[1m \u001b[0m┃\u001b[1m \u001b[0m\u001b[1m        Param #\u001b[0m\u001b[1m \u001b[0m┃\n",
       "┡━━━━━━━━━━━━━━━━━━━━━━━━━━━━━━━━━━━━━━╇━━━━━━━━━━━━━━━━━━━━━━━━━━━━━╇━━━━━━━━━━━━━━━━━┩\n",
       "│ lstm_14 (\u001b[38;5;33mLSTM\u001b[0m)                       │ (\u001b[38;5;45mNone\u001b[0m, \u001b[38;5;34m128\u001b[0m)                 │          \u001b[38;5;34m66,560\u001b[0m │\n",
       "├──────────────────────────────────────┼─────────────────────────────┼─────────────────┤\n",
       "│ dropout_14 (\u001b[38;5;33mDropout\u001b[0m)                 │ (\u001b[38;5;45mNone\u001b[0m, \u001b[38;5;34m128\u001b[0m)                 │               \u001b[38;5;34m0\u001b[0m │\n",
       "├──────────────────────────────────────┼─────────────────────────────┼─────────────────┤\n",
       "│ repeat_vector_7 (\u001b[38;5;33mRepeatVector\u001b[0m)       │ (\u001b[38;5;45mNone\u001b[0m, \u001b[38;5;34m30\u001b[0m, \u001b[38;5;34m128\u001b[0m)             │               \u001b[38;5;34m0\u001b[0m │\n",
       "├──────────────────────────────────────┼─────────────────────────────┼─────────────────┤\n",
       "│ lstm_15 (\u001b[38;5;33mLSTM\u001b[0m)                       │ (\u001b[38;5;45mNone\u001b[0m, \u001b[38;5;34m30\u001b[0m, \u001b[38;5;34m128\u001b[0m)             │         \u001b[38;5;34m131,584\u001b[0m │\n",
       "├──────────────────────────────────────┼─────────────────────────────┼─────────────────┤\n",
       "│ dropout_15 (\u001b[38;5;33mDropout\u001b[0m)                 │ (\u001b[38;5;45mNone\u001b[0m, \u001b[38;5;34m30\u001b[0m, \u001b[38;5;34m128\u001b[0m)             │               \u001b[38;5;34m0\u001b[0m │\n",
       "├──────────────────────────────────────┼─────────────────────────────┼─────────────────┤\n",
       "│ time_distributed_7 (\u001b[38;5;33mTimeDistributed\u001b[0m) │ (\u001b[38;5;45mNone\u001b[0m, \u001b[38;5;34m30\u001b[0m, \u001b[38;5;34m1\u001b[0m)               │             \u001b[38;5;34m129\u001b[0m │\n",
       "├──────────────────────────────────────┼─────────────────────────────┼─────────────────┤\n",
       "│ lstm_16 (\u001b[38;5;33mLSTM\u001b[0m)                       │ (\u001b[38;5;45mNone\u001b[0m, \u001b[38;5;34m128\u001b[0m)                 │          \u001b[38;5;34m66,560\u001b[0m │\n",
       "├──────────────────────────────────────┼─────────────────────────────┼─────────────────┤\n",
       "│ dropout_16 (\u001b[38;5;33mDropout\u001b[0m)                 │ (\u001b[38;5;45mNone\u001b[0m, \u001b[38;5;34m128\u001b[0m)                 │               \u001b[38;5;34m0\u001b[0m │\n",
       "├──────────────────────────────────────┼─────────────────────────────┼─────────────────┤\n",
       "│ repeat_vector_8 (\u001b[38;5;33mRepeatVector\u001b[0m)       │ (\u001b[38;5;45mNone\u001b[0m, \u001b[38;5;34m30\u001b[0m, \u001b[38;5;34m128\u001b[0m)             │               \u001b[38;5;34m0\u001b[0m │\n",
       "├──────────────────────────────────────┼─────────────────────────────┼─────────────────┤\n",
       "│ lstm_17 (\u001b[38;5;33mLSTM\u001b[0m)                       │ (\u001b[38;5;45mNone\u001b[0m, \u001b[38;5;34m30\u001b[0m, \u001b[38;5;34m128\u001b[0m)             │         \u001b[38;5;34m131,584\u001b[0m │\n",
       "├──────────────────────────────────────┼─────────────────────────────┼─────────────────┤\n",
       "│ dropout_17 (\u001b[38;5;33mDropout\u001b[0m)                 │ (\u001b[38;5;45mNone\u001b[0m, \u001b[38;5;34m30\u001b[0m, \u001b[38;5;34m128\u001b[0m)             │               \u001b[38;5;34m0\u001b[0m │\n",
       "├──────────────────────────────────────┼─────────────────────────────┼─────────────────┤\n",
       "│ time_distributed_8 (\u001b[38;5;33mTimeDistributed\u001b[0m) │ (\u001b[38;5;45mNone\u001b[0m, \u001b[38;5;34m30\u001b[0m, \u001b[38;5;34m1\u001b[0m)               │             \u001b[38;5;34m129\u001b[0m │\n",
       "└──────────────────────────────────────┴─────────────────────────────┴─────────────────┘\n"
      ]
     },
     "metadata": {},
     "output_type": "display_data"
    },
    {
     "data": {
      "text/html": [
       "<pre style=\"white-space:pre;overflow-x:auto;line-height:normal;font-family:Menlo,'DejaVu Sans Mono',consolas,'Courier New',monospace\"><span style=\"font-weight: bold\"> Total params: </span><span style=\"color: #00af00; text-decoration-color: #00af00\">396,548</span> (1.51 MB)\n",
       "</pre>\n"
      ],
      "text/plain": [
       "\u001b[1m Total params: \u001b[0m\u001b[38;5;34m396,548\u001b[0m (1.51 MB)\n"
      ]
     },
     "metadata": {},
     "output_type": "display_data"
    },
    {
     "data": {
      "text/html": [
       "<pre style=\"white-space:pre;overflow-x:auto;line-height:normal;font-family:Menlo,'DejaVu Sans Mono',consolas,'Courier New',monospace\"><span style=\"font-weight: bold\"> Trainable params: </span><span style=\"color: #00af00; text-decoration-color: #00af00\">0</span> (0.00 B)\n",
       "</pre>\n"
      ],
      "text/plain": [
       "\u001b[1m Trainable params: \u001b[0m\u001b[38;5;34m0\u001b[0m (0.00 B)\n"
      ]
     },
     "metadata": {},
     "output_type": "display_data"
    },
    {
     "data": {
      "text/html": [
       "<pre style=\"white-space:pre;overflow-x:auto;line-height:normal;font-family:Menlo,'DejaVu Sans Mono',consolas,'Courier New',monospace\"><span style=\"font-weight: bold\"> Non-trainable params: </span><span style=\"color: #00af00; text-decoration-color: #00af00\">396,546</span> (1.51 MB)\n",
       "</pre>\n"
      ],
      "text/plain": [
       "\u001b[1m Non-trainable params: \u001b[0m\u001b[38;5;34m396,546\u001b[0m (1.51 MB)\n"
      ]
     },
     "metadata": {},
     "output_type": "display_data"
    },
    {
     "data": {
      "text/html": [
       "<pre style=\"white-space:pre;overflow-x:auto;line-height:normal;font-family:Menlo,'DejaVu Sans Mono',consolas,'Courier New',monospace\"><span style=\"font-weight: bold\"> Optimizer params: </span><span style=\"color: #00af00; text-decoration-color: #00af00\">2</span> (12.00 B)\n",
       "</pre>\n"
      ],
      "text/plain": [
       "\u001b[1m Optimizer params: \u001b[0m\u001b[38;5;34m2\u001b[0m (12.00 B)\n"
      ]
     },
     "metadata": {},
     "output_type": "display_data"
    },
    {
     "name": "stdout",
     "output_type": "stream",
     "text": [
      "None\n"
     ]
    }
   ],
   "source": [
    "import tensorflow as tf\n",
    "import tensorflow.keras as keras\n",
    "from tensorflow.keras import Model\n",
    "\n",
    "from keras.src.legacy.saving import legacy_h5_format\n",
    "\n",
    "model = legacy_h5_format.load_model_from_hdf5(\"/kaggle/working/martian-kriti.h5\", custom_objects={'mae': 'mae'})\n",
    "\n",
    "print(model)\n",
    "print(model.summary())"
   ]
  },
  {
   "cell_type": "code",
   "execution_count": 83,
   "metadata": {
    "execution": {
     "iopub.execute_input": "2025-02-03T16:14:11.701137Z",
     "iopub.status.busy": "2025-02-03T16:14:11.700736Z",
     "iopub.status.idle": "2025-02-03T16:14:11.706549Z",
     "shell.execute_reply": "2025-02-03T16:14:11.705609Z",
     "shell.execute_reply.started": "2025-02-03T16:14:11.701101Z"
    },
    "executionInfo": {
     "elapsed": 400,
     "status": "ok",
     "timestamp": 1728200698792,
     "user": {
      "displayName": "Covie",
      "userId": "10423739331182877734"
     },
     "user_tz": 240
    },
    "id": "BYxy4033ydg7",
    "outputId": "528d93e5-622a-4a16-8c59-1143009cf987",
    "trusted": true
   },
   "outputs": [
    {
     "data": {
      "text/plain": [
       "<keras.src.callbacks.history.History at 0x7829620f2710>"
      ]
     },
     "execution_count": 83,
     "metadata": {},
     "output_type": "execute_result"
    }
   ],
   "source": [
    "history"
   ]
  },
  {
   "cell_type": "markdown",
   "metadata": {},
   "source": [
    "<div style=\"background-color:#121212; color:#E0E0E0; padding:20px; border-radius:8px;font-family: 'Dancing Script', cursive;\">\n",
    "    <h2 style=\"color:#F1C40F;\">Calculating Training Loss</h2>\n",
    "    <p></p>\n",
    "</div>\n"
   ]
  },
  {
   "cell_type": "code",
   "execution_count": 84,
   "metadata": {
    "execution": {
     "iopub.execute_input": "2025-02-03T16:14:11.707934Z",
     "iopub.status.busy": "2025-02-03T16:14:11.707660Z",
     "iopub.status.idle": "2025-02-03T16:17:05.150397Z",
     "shell.execute_reply": "2025-02-03T16:17:05.149149Z",
     "shell.execute_reply.started": "2025-02-03T16:14:11.707886Z"
    },
    "executionInfo": {
     "elapsed": 23062,
     "status": "ok",
     "timestamp": 1728201643400,
     "user": {
      "displayName": "Covie",
      "userId": "10423739331182877734"
     },
     "user_tz": 240
    },
    "id": "OgY2ovbQ3ufn",
    "outputId": "79ae9ef6-6476-4803-9abe-b7a520eee892",
    "trusted": true
   },
   "outputs": [
    {
     "name": "stdout",
     "output_type": "stream",
     "text": [
      "\u001b[1m2250/2250\u001b[0m \u001b[32m━━━━━━━━━━━━━━━━━━━━\u001b[0m\u001b[37m\u001b[0m \u001b[1m85s\u001b[0m 37ms/step\n",
      "\u001b[1m2250/2250\u001b[0m \u001b[32m━━━━━━━━━━━━━━━━━━━━\u001b[0m\u001b[37m\u001b[0m \u001b[1m83s\u001b[0m 37ms/step\n"
     ]
    }
   ],
   "source": [
    "train_mae_loss_final = pd.DataFrame(columns=['Error'])\n",
    "\n",
    "for i in range(2):\n",
    "  fileList = ['dataset_1', 'Dataset_2']\n",
    "  train_filename = fileList[i]\n",
    "  csv_directory = '/kaggle/input/martian-kriti/Martian/'\n",
    "\n",
    "  filepath = os.path.join(csv_directory + train_filename + \".csv\")\n",
    "\n",
    "\n",
    "  temp_df = pd.read_csv(filepath)\n",
    "\n",
    "  train = temp_df.rename(columns={'time': 'rel_time(sec)', 'velocity': 'velocity(c/s)'})\n",
    "\n",
    "  train = train[['rel_time(sec)', 'velocity(c/s)']]\n",
    "\n",
    "  train['velocity(c/s)'] = scalar.transform(train[['velocity(c/s)']])\n",
    "\n",
    "  time_steps = 30\n",
    "\n",
    "  X_train, y_train = create_sequences(train[['velocity(c/s)']], train['velocity(c/s)'], time_steps)\n",
    "\n",
    "  # Calculating the mae for training data\n",
    "  X_train_pred = model.predict(X_train)\n",
    "  train_mae_loss_final = pd.concat([train_mae_loss_final, pd.DataFrame(np.mean(np.abs(X_train_pred - X_train),axis=1),columns=['Error'])])"
   ]
  },
  {
   "cell_type": "code",
   "execution_count": 85,
   "metadata": {
    "execution": {
     "iopub.execute_input": "2025-02-03T16:17:05.152060Z",
     "iopub.status.busy": "2025-02-03T16:17:05.151634Z",
     "iopub.status.idle": "2025-02-03T16:17:05.161954Z",
     "shell.execute_reply": "2025-02-03T16:17:05.161022Z",
     "shell.execute_reply.started": "2025-02-03T16:17:05.152023Z"
    },
    "executionInfo": {
     "elapsed": 457,
     "status": "ok",
     "timestamp": 1728201645410,
     "user": {
      "displayName": "Covie",
      "userId": "10423739331182877734"
     },
     "user_tz": 240
    },
    "id": "NZX9-6ahVKY4",
    "outputId": "0eb5de81-b4a2-4272-ed45-c1ff8860b0b0",
    "trusted": true
   },
   "outputs": [
    {
     "data": {
      "text/html": [
       "<div>\n",
       "<style scoped>\n",
       "    .dataframe tbody tr th:only-of-type {\n",
       "        vertical-align: middle;\n",
       "    }\n",
       "\n",
       "    .dataframe tbody tr th {\n",
       "        vertical-align: top;\n",
       "    }\n",
       "\n",
       "    .dataframe thead th {\n",
       "        text-align: right;\n",
       "    }\n",
       "</style>\n",
       "<table border=\"1\" class=\"dataframe\">\n",
       "  <thead>\n",
       "    <tr style=\"text-align: right;\">\n",
       "      <th></th>\n",
       "      <th>Error</th>\n",
       "    </tr>\n",
       "  </thead>\n",
       "  <tbody>\n",
       "    <tr>\n",
       "      <th>0</th>\n",
       "      <td>0.033501</td>\n",
       "    </tr>\n",
       "    <tr>\n",
       "      <th>1</th>\n",
       "      <td>0.033457</td>\n",
       "    </tr>\n",
       "    <tr>\n",
       "      <th>2</th>\n",
       "      <td>0.033414</td>\n",
       "    </tr>\n",
       "    <tr>\n",
       "      <th>3</th>\n",
       "      <td>0.033328</td>\n",
       "    </tr>\n",
       "    <tr>\n",
       "      <th>4</th>\n",
       "      <td>0.033260</td>\n",
       "    </tr>\n",
       "    <tr>\n",
       "      <th>...</th>\n",
       "      <td>...</td>\n",
       "    </tr>\n",
       "    <tr>\n",
       "      <th>71965</th>\n",
       "      <td>0.032594</td>\n",
       "    </tr>\n",
       "    <tr>\n",
       "      <th>71966</th>\n",
       "      <td>0.032672</td>\n",
       "    </tr>\n",
       "    <tr>\n",
       "      <th>71967</th>\n",
       "      <td>0.032905</td>\n",
       "    </tr>\n",
       "    <tr>\n",
       "      <th>71968</th>\n",
       "      <td>0.033212</td>\n",
       "    </tr>\n",
       "    <tr>\n",
       "      <th>71969</th>\n",
       "      <td>0.033249</td>\n",
       "    </tr>\n",
       "  </tbody>\n",
       "</table>\n",
       "<p>143940 rows × 1 columns</p>\n",
       "</div>"
      ],
      "text/plain": [
       "          Error\n",
       "0      0.033501\n",
       "1      0.033457\n",
       "2      0.033414\n",
       "3      0.033328\n",
       "4      0.033260\n",
       "...         ...\n",
       "71965  0.032594\n",
       "71966  0.032672\n",
       "71967  0.032905\n",
       "71968  0.033212\n",
       "71969  0.033249\n",
       "\n",
       "[143940 rows x 1 columns]"
      ]
     },
     "execution_count": 85,
     "metadata": {},
     "output_type": "execute_result"
    }
   ],
   "source": [
    "train_mae_loss_final"
   ]
  },
  {
   "cell_type": "code",
   "execution_count": 87,
   "metadata": {
    "execution": {
     "iopub.execute_input": "2025-02-03T16:17:06.086985Z",
     "iopub.status.busy": "2025-02-03T16:17:06.086675Z",
     "iopub.status.idle": "2025-02-03T16:17:06.114164Z",
     "shell.execute_reply": "2025-02-03T16:17:06.113357Z",
     "shell.execute_reply.started": "2025-02-03T16:17:06.086959Z"
    },
    "executionInfo": {
     "elapsed": 159,
     "status": "ok",
     "timestamp": 1728138756463,
     "user": {
      "displayName": "Chanhui Lee",
      "userId": "16408719030630900867"
     },
     "user_tz": 240
    },
    "id": "yVz5Su7ZBtxu",
    "outputId": "abc4d707-e114-4aa6-ce4b-bfb142564cdb",
    "trusted": true
   },
   "outputs": [
    {
     "data": {
      "text/html": [
       "<div>\n",
       "<style scoped>\n",
       "    .dataframe tbody tr th:only-of-type {\n",
       "        vertical-align: middle;\n",
       "    }\n",
       "\n",
       "    .dataframe tbody tr th {\n",
       "        vertical-align: top;\n",
       "    }\n",
       "\n",
       "    .dataframe thead th {\n",
       "        text-align: right;\n",
       "    }\n",
       "</style>\n",
       "<table border=\"1\" class=\"dataframe\">\n",
       "  <thead>\n",
       "    <tr style=\"text-align: right;\">\n",
       "      <th></th>\n",
       "      <th>Error</th>\n",
       "    </tr>\n",
       "  </thead>\n",
       "  <tbody>\n",
       "    <tr>\n",
       "      <th>13665</th>\n",
       "      <td>8.604729</td>\n",
       "    </tr>\n",
       "    <tr>\n",
       "      <th>13664</th>\n",
       "      <td>8.555820</td>\n",
       "    </tr>\n",
       "    <tr>\n",
       "      <th>13666</th>\n",
       "      <td>8.524030</td>\n",
       "    </tr>\n",
       "    <tr>\n",
       "      <th>13663</th>\n",
       "      <td>8.407098</td>\n",
       "    </tr>\n",
       "    <tr>\n",
       "      <th>13667</th>\n",
       "      <td>8.315843</td>\n",
       "    </tr>\n",
       "    <tr>\n",
       "      <th>...</th>\n",
       "      <td>...</td>\n",
       "    </tr>\n",
       "    <tr>\n",
       "      <th>71867</th>\n",
       "      <td>0.024579</td>\n",
       "    </tr>\n",
       "    <tr>\n",
       "      <th>71866</th>\n",
       "      <td>0.024197</td>\n",
       "    </tr>\n",
       "    <tr>\n",
       "      <th>71865</th>\n",
       "      <td>0.024194</td>\n",
       "    </tr>\n",
       "    <tr>\n",
       "      <th>71847</th>\n",
       "      <td>0.023641</td>\n",
       "    </tr>\n",
       "    <tr>\n",
       "      <th>71846</th>\n",
       "      <td>0.023045</td>\n",
       "    </tr>\n",
       "  </tbody>\n",
       "</table>\n",
       "<p>143940 rows × 1 columns</p>\n",
       "</div>"
      ],
      "text/plain": [
       "          Error\n",
       "13665  8.604729\n",
       "13664  8.555820\n",
       "13666  8.524030\n",
       "13663  8.407098\n",
       "13667  8.315843\n",
       "...         ...\n",
       "71867  0.024579\n",
       "71866  0.024197\n",
       "71865  0.024194\n",
       "71847  0.023641\n",
       "71846  0.023045\n",
       "\n",
       "[143940 rows x 1 columns]"
      ]
     },
     "execution_count": 87,
     "metadata": {},
     "output_type": "execute_result"
    }
   ],
   "source": [
    "testDf = pd.DataFrame(train_mae_loss_final)\n",
    "testDf.sort_values(by='Error', ascending=False)"
   ]
  },
  {
   "cell_type": "markdown",
   "metadata": {},
   "source": [
    "<div style=\"background-color:#121212; color:#E0E0E0; padding:20px; border-radius:8px;font-family: 'Dancing Script', cursive;\">\n",
    "    <h2 style=\"color:#F1C40F;\">Setting Threshold</h2>\n",
    "    <p></p>\n",
    "</div>\n"
   ]
  },
  {
   "cell_type": "code",
   "execution_count": 88,
   "metadata": {
    "execution": {
     "iopub.execute_input": "2025-02-03T16:17:06.115202Z",
     "iopub.status.busy": "2025-02-03T16:17:06.114965Z",
     "iopub.status.idle": "2025-02-03T16:17:06.118871Z",
     "shell.execute_reply": "2025-02-03T16:17:06.118014Z",
     "shell.execute_reply.started": "2025-02-03T16:17:06.115183Z"
    },
    "id": "fWDd20X6Ynew",
    "trusted": true
   },
   "outputs": [],
   "source": [
    "threshold = 6"
   ]
  },
  {
   "cell_type": "markdown",
   "metadata": {
    "id": "FCagSk-NYnew"
   },
   "source": [
    "if we notice a error > threshold, we will say that it is an anamoly"
   ]
  },
  {
   "cell_type": "markdown",
   "metadata": {},
   "source": [
    "<div style=\"background-color:#121212; color:#E0E0E0; padding:20px; border-radius:8px;font-family: 'Dancing Script', cursive;\">\n",
    "    <h2 style=\"color:#F1C40F;\">Test Dataset</h2>\n",
    "    <p></p>\n",
    "</div>\n"
   ]
  },
  {
   "cell_type": "code",
   "execution_count": 89,
   "metadata": {
    "execution": {
     "iopub.execute_input": "2025-02-03T16:17:06.120343Z",
     "iopub.status.busy": "2025-02-03T16:17:06.120003Z",
     "iopub.status.idle": "2025-02-03T16:17:08.253066Z",
     "shell.execute_reply": "2025-02-03T16:17:08.252018Z",
     "shell.execute_reply.started": "2025-02-03T16:17:06.120306Z"
    },
    "executionInfo": {
     "elapsed": 3301,
     "status": "ok",
     "timestamp": 1728202011044,
     "user": {
      "displayName": "Covie",
      "userId": "10423739331182877734"
     },
     "user_tz": 240
    },
    "id": "8wNqcguBL8GB",
    "outputId": "af9d9abf-f23b-498f-d4a3-02458f6fd3a8",
    "trusted": true
   },
   "outputs": [
    {
     "data": {
      "text/plain": [
       "array([-0.00246352, -0.00279021, -0.00134903, ...,  0.0011532 ,\n",
       "        0.00114885,  0.00114729])"
      ]
     },
     "execution_count": 89,
     "metadata": {},
     "output_type": "execute_result"
    }
   ],
   "source": [
    "test = pd.read_csv(\"/kaggle/input/mars-seismic-velocity/mars/test/data/XB.ELYSE.02.BHV.2019-05-23HR02_evid0041.csv\")\n",
    "\n",
    "test['velocity(c/s)'] = scalar.transform(test[['velocity(c/s)']])\n",
    "\n",
    "time_steps = 30\n",
    "\n",
    "X_test, y_test = create_sequences(test[['velocity(c/s)']],test['velocity(c/s)'],time_steps)\n",
    "\n",
    "X_test\n",
    "y_test"
   ]
  },
  {
   "cell_type": "markdown",
   "metadata": {},
   "source": [
    "<div style=\"background-color:#121212; color:#E0E0E0; padding:20px; border-radius:8px;font-family: 'Dancing Script', cursive;\">\n",
    "    <h2 style=\"color:#F1C40F;\">Calculating Mean Absolute error in Test Dataset</h2>\n",
    "    <p></p>\n",
    "</div>\n"
   ]
  },
  {
   "cell_type": "code",
   "execution_count": 90,
   "metadata": {
    "execution": {
     "iopub.execute_input": "2025-02-03T16:17:08.254357Z",
     "iopub.status.busy": "2025-02-03T16:17:08.254054Z",
     "iopub.status.idle": "2025-02-03T16:18:32.723268Z",
     "shell.execute_reply": "2025-02-03T16:18:32.722073Z",
     "shell.execute_reply.started": "2025-02-03T16:17:08.254331Z"
    },
    "executionInfo": {
     "elapsed": 9972,
     "status": "ok",
     "timestamp": 1728202029077,
     "user": {
      "displayName": "Covie",
      "userId": "10423739331182877734"
     },
     "user_tz": 240
    },
    "id": "fpSgxxnMYnex",
    "outputId": "7ead81d4-520c-47b1-f1ea-a3a925853578",
    "trusted": true
   },
   "outputs": [
    {
     "name": "stdout",
     "output_type": "stream",
     "text": [
      "\u001b[1m2250/2250\u001b[0m \u001b[32m━━━━━━━━━━━━━━━━━━━━\u001b[0m\u001b[37m\u001b[0m \u001b[1m84s\u001b[0m 37ms/step\n"
     ]
    }
   ],
   "source": [
    "X_test_pred = model.predict(X_test)\n",
    "test_mae_loss = np.mean(np.abs(X_test_pred - X_test),axis=1)"
   ]
  },
  {
   "cell_type": "markdown",
   "metadata": {
    "id": "7C8bQAqZcqiw"
   },
   "source": [
    "\n",
    "<div style=\"background-color:#121212; color:#E0E0E0; padding:20px; border-radius:8px;font-family: 'Dancing Script', cursive;\">\n",
    "    <h2 style=\"color:#F1C40F;\">Detecting Anomalies in the Test Data</h2>\n",
    "    <p></p>\n",
    "</div>\n"
   ]
  },
  {
   "cell_type": "code",
   "execution_count": 92,
   "metadata": {
    "execution": {
     "iopub.execute_input": "2025-02-03T16:18:33.356231Z",
     "iopub.status.busy": "2025-02-03T16:18:33.355958Z",
     "iopub.status.idle": "2025-02-03T16:18:33.363956Z",
     "shell.execute_reply": "2025-02-03T16:18:33.363139Z",
     "shell.execute_reply.started": "2025-02-03T16:18:33.356207Z"
    },
    "id": "U-87Uma2uEg6",
    "trusted": true
   },
   "outputs": [],
   "source": [
    "test_score_df = pd.DataFrame(test[time_steps:])\n",
    "test_score_df['loss'] = test_mae_loss\n",
    "test_score_df['threshold'] = threshold\n",
    "test_score_df['anomaly'] = test_score_df['loss'] > test_score_df['threshold']\n",
    "test_score_df['velocity(c/s)'] = test[time_steps:]['velocity(c/s)']"
   ]
  },
  {
   "cell_type": "code",
   "execution_count": 93,
   "metadata": {
    "execution": {
     "iopub.execute_input": "2025-02-03T16:18:33.365230Z",
     "iopub.status.busy": "2025-02-03T16:18:33.364884Z",
     "iopub.status.idle": "2025-02-03T16:18:33.385558Z",
     "shell.execute_reply": "2025-02-03T16:18:33.384541Z",
     "shell.execute_reply.started": "2025-02-03T16:18:33.365205Z"
    },
    "executionInfo": {
     "elapsed": 847,
     "status": "ok",
     "timestamp": 1728202052511,
     "user": {
      "displayName": "Covie",
      "userId": "10423739331182877734"
     },
     "user_tz": 240
    },
    "id": "l7QgPLCIQj5x",
    "outputId": "91ee5611-1ac6-46b7-aaab-4c4bf72a025a",
    "trusted": true
   },
   "outputs": [
    {
     "data": {
      "text/html": [
       "<div>\n",
       "<style scoped>\n",
       "    .dataframe tbody tr th:only-of-type {\n",
       "        vertical-align: middle;\n",
       "    }\n",
       "\n",
       "    .dataframe tbody tr th {\n",
       "        vertical-align: top;\n",
       "    }\n",
       "\n",
       "    .dataframe thead th {\n",
       "        text-align: right;\n",
       "    }\n",
       "</style>\n",
       "<table border=\"1\" class=\"dataframe\">\n",
       "  <thead>\n",
       "    <tr style=\"text-align: right;\">\n",
       "      <th></th>\n",
       "      <th>time(%Y-%m-%dT%H:%M:%S.%f)</th>\n",
       "      <th>rel_time(sec)</th>\n",
       "      <th>velocity(c/s)</th>\n",
       "      <th>loss</th>\n",
       "      <th>threshold</th>\n",
       "      <th>anomaly</th>\n",
       "    </tr>\n",
       "  </thead>\n",
       "  <tbody>\n",
       "    <tr>\n",
       "      <th>30</th>\n",
       "      <td>2019-05-23T02:00:01.532000</td>\n",
       "      <td>1.50</td>\n",
       "      <td>-0.002464</td>\n",
       "      <td>0.034740</td>\n",
       "      <td>6</td>\n",
       "      <td>False</td>\n",
       "    </tr>\n",
       "    <tr>\n",
       "      <th>31</th>\n",
       "      <td>2019-05-23T02:00:01.582000</td>\n",
       "      <td>1.55</td>\n",
       "      <td>-0.002790</td>\n",
       "      <td>0.034793</td>\n",
       "      <td>6</td>\n",
       "      <td>False</td>\n",
       "    </tr>\n",
       "    <tr>\n",
       "      <th>32</th>\n",
       "      <td>2019-05-23T02:00:01.632000</td>\n",
       "      <td>1.60</td>\n",
       "      <td>-0.001349</td>\n",
       "      <td>0.034819</td>\n",
       "      <td>6</td>\n",
       "      <td>False</td>\n",
       "    </tr>\n",
       "    <tr>\n",
       "      <th>33</th>\n",
       "      <td>2019-05-23T02:00:01.682000</td>\n",
       "      <td>1.65</td>\n",
       "      <td>-0.000199</td>\n",
       "      <td>0.034812</td>\n",
       "      <td>6</td>\n",
       "      <td>False</td>\n",
       "    </tr>\n",
       "    <tr>\n",
       "      <th>34</th>\n",
       "      <td>2019-05-23T02:00:01.732000</td>\n",
       "      <td>1.70</td>\n",
       "      <td>-0.003554</td>\n",
       "      <td>0.034797</td>\n",
       "      <td>6</td>\n",
       "      <td>False</td>\n",
       "    </tr>\n",
       "  </tbody>\n",
       "</table>\n",
       "</div>"
      ],
      "text/plain": [
       "    time(%Y-%m-%dT%H:%M:%S.%f)  rel_time(sec)  velocity(c/s)      loss  \\\n",
       "30  2019-05-23T02:00:01.532000           1.50      -0.002464  0.034740   \n",
       "31  2019-05-23T02:00:01.582000           1.55      -0.002790  0.034793   \n",
       "32  2019-05-23T02:00:01.632000           1.60      -0.001349  0.034819   \n",
       "33  2019-05-23T02:00:01.682000           1.65      -0.000199  0.034812   \n",
       "34  2019-05-23T02:00:01.732000           1.70      -0.003554  0.034797   \n",
       "\n",
       "    threshold  anomaly  \n",
       "30          6    False  \n",
       "31          6    False  \n",
       "32          6    False  \n",
       "33          6    False  \n",
       "34          6    False  "
      ]
     },
     "execution_count": 93,
     "metadata": {},
     "output_type": "execute_result"
    }
   ],
   "source": [
    "test_score_df.head()"
   ]
  },
  {
   "cell_type": "code",
   "execution_count": 94,
   "metadata": {
    "execution": {
     "iopub.execute_input": "2025-02-03T16:18:33.386861Z",
     "iopub.status.busy": "2025-02-03T16:18:33.386549Z",
     "iopub.status.idle": "2025-02-03T16:18:33.776780Z",
     "shell.execute_reply": "2025-02-03T16:18:33.775999Z",
     "shell.execute_reply.started": "2025-02-03T16:18:33.386834Z"
    },
    "id": "dXM70zbnGsMJ",
    "trusted": true
   },
   "outputs": [],
   "source": [
    "test_score_df.to_csv('/kaggle/working/mars_seismic_velocity_scores.csv', index=False)\n"
   ]
  },
  {
   "cell_type": "code",
   "execution_count": 96,
   "metadata": {
    "execution": {
     "iopub.execute_input": "2025-02-03T16:18:33.831387Z",
     "iopub.status.busy": "2025-02-03T16:18:33.830971Z",
     "iopub.status.idle": "2025-02-03T16:18:33.846714Z",
     "shell.execute_reply": "2025-02-03T16:18:33.845711Z",
     "shell.execute_reply.started": "2025-02-03T16:18:33.831345Z"
    },
    "executionInfo": {
     "elapsed": 388,
     "status": "ok",
     "timestamp": 1728202164047,
     "user": {
      "displayName": "Covie",
      "userId": "10423739331182877734"
     },
     "user_tz": 240
    },
    "id": "1Bl-XhvDYne0",
    "outputId": "be9108d5-b775-4065-c2b4-c105764b03f6",
    "trusted": true
   },
   "outputs": [
    {
     "data": {
      "text/html": [
       "<div>\n",
       "<style scoped>\n",
       "    .dataframe tbody tr th:only-of-type {\n",
       "        vertical-align: middle;\n",
       "    }\n",
       "\n",
       "    .dataframe tbody tr th {\n",
       "        vertical-align: top;\n",
       "    }\n",
       "\n",
       "    .dataframe thead th {\n",
       "        text-align: right;\n",
       "    }\n",
       "</style>\n",
       "<table border=\"1\" class=\"dataframe\">\n",
       "  <thead>\n",
       "    <tr style=\"text-align: right;\">\n",
       "      <th></th>\n",
       "      <th>time(%Y-%m-%dT%H:%M:%S.%f)</th>\n",
       "      <th>rel_time(sec)</th>\n",
       "      <th>velocity(c/s)</th>\n",
       "      <th>loss</th>\n",
       "      <th>threshold</th>\n",
       "      <th>anomaly</th>\n",
       "    </tr>\n",
       "  </thead>\n",
       "  <tbody>\n",
       "    <tr>\n",
       "      <th>27994</th>\n",
       "      <td>2019-05-23T02:23:19.732000</td>\n",
       "      <td>1399.70</td>\n",
       "      <td>6.582999</td>\n",
       "      <td>6.001995</td>\n",
       "      <td>6</td>\n",
       "      <td>True</td>\n",
       "    </tr>\n",
       "    <tr>\n",
       "      <th>27995</th>\n",
       "      <td>2019-05-23T02:23:19.782000</td>\n",
       "      <td>1399.75</td>\n",
       "      <td>7.189274</td>\n",
       "      <td>6.015319</td>\n",
       "      <td>6</td>\n",
       "      <td>True</td>\n",
       "    </tr>\n",
       "    <tr>\n",
       "      <th>27996</th>\n",
       "      <td>2019-05-23T02:23:19.832000</td>\n",
       "      <td>1399.80</td>\n",
       "      <td>6.781137</td>\n",
       "      <td>6.063599</td>\n",
       "      <td>6</td>\n",
       "      <td>True</td>\n",
       "    </tr>\n",
       "    <tr>\n",
       "      <th>27997</th>\n",
       "      <td>2019-05-23T02:23:19.882000</td>\n",
       "      <td>1399.85</td>\n",
       "      <td>6.823184</td>\n",
       "      <td>6.110262</td>\n",
       "      <td>6</td>\n",
       "      <td>True</td>\n",
       "    </tr>\n",
       "    <tr>\n",
       "      <th>27998</th>\n",
       "      <td>2019-05-23T02:23:19.932000</td>\n",
       "      <td>1399.90</td>\n",
       "      <td>6.979275</td>\n",
       "      <td>6.136003</td>\n",
       "      <td>6</td>\n",
       "      <td>True</td>\n",
       "    </tr>\n",
       "    <tr>\n",
       "      <th>...</th>\n",
       "      <td>...</td>\n",
       "      <td>...</td>\n",
       "      <td>...</td>\n",
       "      <td>...</td>\n",
       "      <td>...</td>\n",
       "      <td>...</td>\n",
       "    </tr>\n",
       "    <tr>\n",
       "      <th>45933</th>\n",
       "      <td>2019-05-23T02:38:16.682000</td>\n",
       "      <td>2296.65</td>\n",
       "      <td>5.373254</td>\n",
       "      <td>6.700614</td>\n",
       "      <td>6</td>\n",
       "      <td>True</td>\n",
       "    </tr>\n",
       "    <tr>\n",
       "      <th>45934</th>\n",
       "      <td>2019-05-23T02:38:16.732000</td>\n",
       "      <td>2296.70</td>\n",
       "      <td>4.424900</td>\n",
       "      <td>6.587944</td>\n",
       "      <td>6</td>\n",
       "      <td>True</td>\n",
       "    </tr>\n",
       "    <tr>\n",
       "      <th>45935</th>\n",
       "      <td>2019-05-23T02:38:16.782000</td>\n",
       "      <td>2296.75</td>\n",
       "      <td>4.683033</td>\n",
       "      <td>6.440692</td>\n",
       "      <td>6</td>\n",
       "      <td>True</td>\n",
       "    </tr>\n",
       "    <tr>\n",
       "      <th>45936</th>\n",
       "      <td>2019-05-23T02:38:16.832000</td>\n",
       "      <td>2296.80</td>\n",
       "      <td>4.418955</td>\n",
       "      <td>6.302142</td>\n",
       "      <td>6</td>\n",
       "      <td>True</td>\n",
       "    </tr>\n",
       "    <tr>\n",
       "      <th>45937</th>\n",
       "      <td>2019-05-23T02:38:16.882000</td>\n",
       "      <td>2296.85</td>\n",
       "      <td>3.848754</td>\n",
       "      <td>6.160795</td>\n",
       "      <td>6</td>\n",
       "      <td>True</td>\n",
       "    </tr>\n",
       "  </tbody>\n",
       "</table>\n",
       "<p>193 rows × 6 columns</p>\n",
       "</div>"
      ],
      "text/plain": [
       "       time(%Y-%m-%dT%H:%M:%S.%f)  rel_time(sec)  velocity(c/s)      loss  \\\n",
       "27994  2019-05-23T02:23:19.732000        1399.70       6.582999  6.001995   \n",
       "27995  2019-05-23T02:23:19.782000        1399.75       7.189274  6.015319   \n",
       "27996  2019-05-23T02:23:19.832000        1399.80       6.781137  6.063599   \n",
       "27997  2019-05-23T02:23:19.882000        1399.85       6.823184  6.110262   \n",
       "27998  2019-05-23T02:23:19.932000        1399.90       6.979275  6.136003   \n",
       "...                           ...            ...            ...       ...   \n",
       "45933  2019-05-23T02:38:16.682000        2296.65       5.373254  6.700614   \n",
       "45934  2019-05-23T02:38:16.732000        2296.70       4.424900  6.587944   \n",
       "45935  2019-05-23T02:38:16.782000        2296.75       4.683033  6.440692   \n",
       "45936  2019-05-23T02:38:16.832000        2296.80       4.418955  6.302142   \n",
       "45937  2019-05-23T02:38:16.882000        2296.85       3.848754  6.160795   \n",
       "\n",
       "       threshold  anomaly  \n",
       "27994          6     True  \n",
       "27995          6     True  \n",
       "27996          6     True  \n",
       "27997          6     True  \n",
       "27998          6     True  \n",
       "...          ...      ...  \n",
       "45933          6     True  \n",
       "45934          6     True  \n",
       "45935          6     True  \n",
       "45936          6     True  \n",
       "45937          6     True  \n",
       "\n",
       "[193 rows x 6 columns]"
      ]
     },
     "execution_count": 96,
     "metadata": {},
     "output_type": "execute_result"
    }
   ],
   "source": [
    "anomalies = test_score_df[test_score_df['anomaly']==True]\n",
    "anomalies"
   ]
  },
  {
   "cell_type": "code",
   "execution_count": 97,
   "metadata": {
    "execution": {
     "iopub.execute_input": "2025-02-03T16:18:33.848108Z",
     "iopub.status.busy": "2025-02-03T16:18:33.847739Z",
     "iopub.status.idle": "2025-02-03T16:18:34.396025Z",
     "shell.execute_reply": "2025-02-03T16:18:34.395041Z",
     "shell.execute_reply.started": "2025-02-03T16:18:33.848075Z"
    },
    "executionInfo": {
     "elapsed": 1150,
     "status": "ok",
     "timestamp": 1728202266335,
     "user": {
      "displayName": "Covie",
      "userId": "10423739331182877734"
     },
     "user_tz": 240
    },
    "id": "OcdFgsX0Yne0",
    "outputId": "7d3e8716-ca16-458d-e742-d519234e3c04",
    "trusted": true
   },
   "outputs": [
    {
     "data": {
      "image/png": "[encoded data removed]",
      "text/plain": [
       "<Figure size 1600x600 with 1 Axes>"
      ]
     },
     "metadata": {},
     "output_type": "display_data"
    }
   ],
   "source": [
    "import matplotlib.pyplot as plt\n",
    "import pandas as pd\n",
    "import matplotlib.dates as mdates\n",
    "\n",
    "x1 = pd.to_datetime(test[time_steps:]['rel_time(sec)'])\n",
    "x2 = pd.to_datetime(anomalies['rel_time(sec)'])\n",
    "\n",
    "y1 = scalar.inverse_transform(test[time_steps:][['velocity(c/s)']])\n",
    "y2 = scalar.inverse_transform(anomalies[['velocity(c/s)']])\n",
    "\n",
    "fig, ax = plt.subplots()\n",
    "\n",
    "ax.plot(x1, y1, label='velocity(c/s)', zorder=1)\n",
    "ax.scatter(x2, y2, color='red', label='Anomaly', zorder=2)\n",
    "plt.setp(ax.get_xticklabels(), rotation=45, ha='right')\n",
    "\n",
    "ax.set_xlabel('Time')\n",
    "ax.set_ylabel('velocity(c/s)')\n",
    "ax.set_title('V vs t')\n",
    "\n",
    "ax.legend()\n",
    "fig.tight_layout()\n",
    "plt.show()"
   ]
  },
  {
   "cell_type": "code",
   "execution_count": null,
   "metadata": {
    "trusted": true
   },
   "outputs": [],
   "source": []
  }
 ],
 "metadata": {
  "accelerator": "GPU",
  "colab": {
   "gpuType": "T4",
   "machine_shape": "hm",
   "provenance": [
    {
     "file_id": "1SoVH1xbEOBGWQIn5Rv72A7Gv8G928qxS",
     "timestamp": 1728204879493
    }
   ],
   "toc_visible": true
  },
  "kaggle": {
   "accelerator": "none",
   "dataSources": [
    {
     "datasetId": 6545550,
     "sourceId": 10577115,
     "sourceType": "datasetVersion"
    },
    {
     "datasetId": 6595507,
     "sourceId": 10651320,
     "sourceType": "datasetVersion"
    },
    {
     "datasetId": 6595556,
     "sourceId": 10651387,
     "sourceType": "datasetVersion"
    }
   ],
   "dockerImageVersionId": 30839,
   "isGpuEnabled": false,
   "isInternetEnabled": false,
   "language": "python",
   "sourceType": "notebook"
  },
  "kernelspec": {
   "display_name": "Python 3",
   "language": "python",
   "name": "python3"
  },
  "language_info": {
   "codemirror_mode": {
    "name": "ipython",
    "version": 3
   },
   "file_extension": ".py",
   "mimetype": "text/x-python",
   "name": "python",
   "nbconvert_exporter": "python",
   "pygments_lexer": "ipython3",
   "version": "3.10.12"
  }
 },
 "nbformat": 4,
 "nbformat_minor": 4
}
