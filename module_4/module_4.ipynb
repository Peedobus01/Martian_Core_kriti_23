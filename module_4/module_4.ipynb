{
 "cells": [
  {
   "cell_type": "code",
   "execution_count": 1,
   "id": "e90500a2-0121-4b0a-b761-2d51e8874681",
   "metadata": {},
   "outputs": [],
   "source": [
    "import numpy as np\n",
    "import pandas as pd\n",
    "import obspy\n",
    "from obspy.taup import TauPyModel\n",
    "from scipy.stats import norm\n",
    "import scipy.interpolate as spi\n",
    "from sklearn.model_selection import train_test_split\n",
    "from sklearn.ensemble import GradientBoostingRegressor\n",
    "from sklearn.impute import SimpleImputer\n",
    "from sklearn.preprocessing import StandardScaler\n",
    "import tensorflow as tf\n",
    "from tensorflow import keras\n",
    "from tensorflow.keras.models import Sequential\n",
    "from tensorflow.keras.layers import Dense, Dropout"
   ]
  },
  {
   "cell_type": "code",
   "execution_count": 2,
   "id": "6d53b5cc-4298-4cf5-8ea9-a5d6ba8ce266",
   "metadata": {},
   "outputs": [],
   "source": [
    "df_mars = pd.read_csv(\"Downloads/modified_mars_seismic_data_m_005.csv\")\n",
    "\n",
    "\n",
    "mars_velocity_model = {\n",
    "    \"depth_km\": [0, 400, 800, 1200, 1600, 1800, 2000, 2200, 2500, 2700, 2900, 3200],\n",
    "    \"p_wave_velocity_km_s\": [5.0, 6.0, 7.5, 8.2, 8.8, 9.2, 9.5, 9.7, 10.0, 10.2, 10.4, 10.5],\n",
    "    \"s_wave_velocity_km_s\": [3.0, 3.5, 4.2, 4.6, 4.9, 5.1, 5.3, 5.4, 5.5, 5.6, 5.6, 0.0],\n",
    "    \"density_g_cm3\": [3.5, 3.6, 3.7, 3.8, 4.0, 4.2, 4.5, 4.7, 5.0, 5.2, 5.4, 5.6]\n",
    "}\n",
    "\n",
    "\n",
    "mars_depths = np.array(mars_velocity_model[\"depth_km\"])\n",
    "mars_p_velocity = np.array(mars_velocity_model[\"p_wave_velocity_km_s\"])\n",
    "mars_s_velocity = np.array(mars_velocity_model[\"s_wave_velocity_km_s\"])\n",
    "mars_density = np.array(mars_velocity_model[\"density_g_cm3\"])\n",
    "mars_p_interp = spi.interp1d(mars_depths, mars_p_velocity, kind=\"cubic\", fill_value=\"extrapolate\")\n",
    "mars_s_interp = spi.interp1d(mars_depths, mars_s_velocity, kind=\"cubic\", fill_value=\"extrapolate\")\n",
    "mars_density_interp = spi.interp1d(mars_depths, mars_density, kind=\"cubic\", fill_value=\"extrapolate\")"
   ]
  },
  {
   "cell_type": "code",
   "execution_count": 3,
   "id": "0707d514-2b17-46ea-a001-32186c9e4e54",
   "metadata": {},
   "outputs": [],
   "source": [
    "def seismic_likelihood_advanced(depth, core_radius, sigma=0.1):\n",
    "    \n",
    "    expected_s_wave = mars_s_interp(depth)\n",
    "    expected_density = mars_density_interp(depth)\n",
    "    \n",
    "    if expected_s_wave <= 0.1 and expected_density > 5.0:\n",
    "        return np.exp(-((expected_density / core_radius) ** 2) / (2 * sigma**2))\n",
    "    \n",
    "    return 0.1"
   ]
  },
  {
   "cell_type": "code",
   "execution_count": 4,
   "id": "7f0b73dc-eb73-43cb-a86d-7b000bd82478",
   "metadata": {},
   "outputs": [],
   "source": [
    "depth_samples = np.linspace(1000, 2500, 100)\n",
    "posterior_probs_advanced = np.array([seismic_likelihood_advanced(d, 1700) for d in depth_samples])\n",
    "\n",
    "\n",
    "bayesian_core_radius_advanced = depth_samples[np.argmax(posterior_probs_advanced)]\n",
    "\n",
    "\n",
    "likelihoods = norm.pdf(depth_samples, loc=bayesian_core_radius_advanced, scale=100)\n",
    "\n",
    "\n",
    "posterior_final = posterior_probs_advanced * likelihoods\n",
    "posterior_final /= posterior_final.sum()  "
   ]
  },
  {
   "cell_type": "code",
   "execution_count": 5,
   "id": "163e033c-b7b1-4468-a080-9fcc6c17e49b",
   "metadata": {},
   "outputs": [
    {
     "name": "stdout",
     "output_type": "stream",
     "text": [
      "Estimated Core Radius of Mars (Bayesian Inference): 2389.50 km\n"
     ]
    }
   ],
   "source": [
    "final_core_radius_bayesian_advanced = depth_samples[np.argmax(posterior_final)]\n",
    "\n",
    "\n",
    "mars_radius = 3389.5  \n",
    "mars_core_radius_final = mars_radius - final_core_radius_bayesian_advanced\n",
    "\n",
    "print(f\"Estimated Core Radius of Mars (Bayesian Inference): {mars_core_radius_final:.2f} km\")\n",
    "\n",
    "\n",
    "mars_core_radius_label = np.full(len(df_mars), mars_core_radius_final)  \n",
    "\n",
    "features = [\n",
    "     \"P-wave Velocity (km/s)\", \"S-wave Velocity (km/s)\",\n",
    "    \"Density (g/cm^3)\"\n",
    "]"
   ]
  },
  {
   "cell_type": "code",
   "execution_count": null,
   "id": "da4d6788-bcb6-42aa-900f-18902d1b0739",
   "metadata": {},
   "outputs": [],
   "source": []
  }
 ],
 "metadata": {
  "kernelspec": {
   "display_name": "Python 3 (ipykernel)",
   "language": "python",
   "name": "python3"
  },
  "language_info": {
   "codemirror_mode": {
    "name": "ipython",
    "version": 3
   },
   "file_extension": ".py",
   "mimetype": "text/x-python",
   "name": "python",
   "nbconvert_exporter": "python",
   "pygments_lexer": "ipython3",
   "version": "3.11.7"
  }
 },
 "nbformat": 4,
 "nbformat_minor": 5
}
