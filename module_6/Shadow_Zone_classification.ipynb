{
 "cells": [
  {
   "cell_type": "code",
   "execution_count": 61,
   "metadata": {
    "execution": {
     "iopub.execute_input": "2025-02-03T16:37:40.982532Z",
     "iopub.status.busy": "2025-02-03T16:37:40.982180Z",
     "iopub.status.idle": "2025-02-03T16:37:40.986905Z",
     "shell.execute_reply": "2025-02-03T16:37:40.985700Z",
     "shell.execute_reply.started": "2025-02-03T16:37:40.982503Z"
    },
    "trusted": true
   },
   "outputs": [],
   "source": [
    "import numpy as np\n",
    "import pandas as pd\n",
    "from sklearn.linear_model import LogisticRegression\n",
    "from sklearn.metrics import accuracy_score"
   ]
  },
  {
   "cell_type": "code",
   "execution_count": 53,
   "metadata": {
    "execution": {
     "iopub.execute_input": "2025-02-03T16:36:57.836006Z",
     "iopub.status.busy": "2025-02-03T16:36:57.835665Z",
     "iopub.status.idle": "2025-02-03T16:36:57.955865Z",
     "shell.execute_reply": "2025-02-03T16:36:57.954767Z",
     "shell.execute_reply.started": "2025-02-03T16:36:57.835979Z"
    },
    "trusted": true
   },
   "outputs": [],
   "source": [
    "file_path = \"modified_mars_seismic_data_m_005.csv\"  \n",
    "seismic_data = pd.read_csv(file_path)\n"
   ]
  },
  {
   "cell_type": "markdown",
   "metadata": {},
   "source": [
    "<div style=\"background-color:#121212; color:#E0E0E0; padding:20px; border-radius:8px;font-family: 'Dancing Script', cursive;\">\n",
    "    <h2 style=\"color:#F1C40F;\">Selecting features for ML model</h2>\n",
    "    <p></p>\n",
    "</div>\n"
   ]
  },
  {
   "cell_type": "code",
   "execution_count": 54,
   "metadata": {
    "execution": {
     "iopub.execute_input": "2025-02-03T16:36:57.958137Z",
     "iopub.status.busy": "2025-02-03T16:36:57.957713Z",
     "iopub.status.idle": "2025-02-03T16:36:57.962564Z",
     "shell.execute_reply": "2025-02-03T16:36:57.961522Z",
     "shell.execute_reply.started": "2025-02-03T16:36:57.958094Z"
    },
    "trusted": true
   },
   "outputs": [],
   "source": [
    "features = [\n",
    "    \"Epicentral Distance (°)\", \"P-wave Arrival (s)\", \"S-wave Arrival (s)\", \n",
    "    \"P-wave Amp\", \"S-wave Amp\", \"Event Depth (km)\", \n",
    "    \"P-wave Velocity (km/s)\", \"S-wave Velocity (km/s)\", \"Density (g/cm^3)\"\n",
    "]\n",
    "target = \"Shadow Zone (Label)\""
   ]
  },
  {
   "cell_type": "code",
   "execution_count": 55,
   "metadata": {
    "execution": {
     "iopub.execute_input": "2025-02-03T16:36:57.964263Z",
     "iopub.status.busy": "2025-02-03T16:36:57.963865Z",
     "iopub.status.idle": "2025-02-03T16:36:57.999180Z",
     "shell.execute_reply": "2025-02-03T16:36:57.998017Z",
     "shell.execute_reply.started": "2025-02-03T16:36:57.964223Z"
    },
    "trusted": true
   },
   "outputs": [],
   "source": [
    "seismic_data_cleaned = seismic_data.copy()\n",
    "seismic_data_cleaned[features] = seismic_data_cleaned[features].fillna(seismic_data_cleaned[features].median())\n"
   ]
  },
  {
   "cell_type": "markdown",
   "metadata": {},
   "source": [
    "<div style=\"background-color:#121212; color:#E0E0E0; padding:20px; border-radius:8px;font-family: 'Dancing Script', cursive;\">\n",
    "    <h2 style=\"color:#F1C40F;\">Training with Logistic Regression Model</h2>\n",
    "    <p></p>\n",
    "</div>\n"
   ]
  },
  {
   "cell_type": "code",
   "execution_count": 56,
   "metadata": {
    "execution": {
     "iopub.execute_input": "2025-02-03T16:36:58.000817Z",
     "iopub.status.busy": "2025-02-03T16:36:58.000382Z",
     "iopub.status.idle": "2025-02-03T16:36:58.122013Z",
     "shell.execute_reply": "2025-02-03T16:36:58.120870Z",
     "shell.execute_reply.started": "2025-02-03T16:36:58.000775Z"
    },
    "trusted": true
   },
   "outputs": [
    {
     "data": {
      "text/html": [
       "<style>#sk-container-id-3 {color: black;background-color: white;}#sk-container-id-3 pre{padding: 0;}#sk-container-id-3 div.sk-toggleable {background-color: white;}#sk-container-id-3 label.sk-toggleable__label {cursor: pointer;display: block;width: 100%;margin-bottom: 0;padding: 0.3em;box-sizing: border-box;text-align: center;}#sk-container-id-3 label.sk-toggleable__label-arrow:before {content: \"▸\";float: left;margin-right: 0.25em;color: #696969;}#sk-container-id-3 label.sk-toggleable__label-arrow:hover:before {color: black;}#sk-container-id-3 div.sk-estimator:hover label.sk-toggleable__label-arrow:before {color: black;}#sk-container-id-3 div.sk-toggleable__content {max-height: 0;max-width: 0;overflow: hidden;text-align: left;background-color: #f0f8ff;}#sk-container-id-3 div.sk-toggleable__content pre {margin: 0.2em;color: black;border-radius: 0.25em;background-color: #f0f8ff;}#sk-container-id-3 input.sk-toggleable__control:checked~div.sk-toggleable__content {max-height: 200px;max-width: 100%;overflow: auto;}#sk-container-id-3 input.sk-toggleable__control:checked~label.sk-toggleable__label-arrow:before {content: \"▾\";}#sk-container-id-3 div.sk-estimator input.sk-toggleable__control:checked~label.sk-toggleable__label {background-color: #d4ebff;}#sk-container-id-3 div.sk-label input.sk-toggleable__control:checked~label.sk-toggleable__label {background-color: #d4ebff;}#sk-container-id-3 input.sk-hidden--visually {border: 0;clip: rect(1px 1px 1px 1px);clip: rect(1px, 1px, 1px, 1px);height: 1px;margin: -1px;overflow: hidden;padding: 0;position: absolute;width: 1px;}#sk-container-id-3 div.sk-estimator {font-family: monospace;background-color: #f0f8ff;border: 1px dotted black;border-radius: 0.25em;box-sizing: border-box;margin-bottom: 0.5em;}#sk-container-id-3 div.sk-estimator:hover {background-color: #d4ebff;}#sk-container-id-3 div.sk-parallel-item::after {content: \"\";width: 100%;border-bottom: 1px solid gray;flex-grow: 1;}#sk-container-id-3 div.sk-label:hover label.sk-toggleable__label {background-color: #d4ebff;}#sk-container-id-3 div.sk-serial::before {content: \"\";position: absolute;border-left: 1px solid gray;box-sizing: border-box;top: 0;bottom: 0;left: 50%;z-index: 0;}#sk-container-id-3 div.sk-serial {display: flex;flex-direction: column;align-items: center;background-color: white;padding-right: 0.2em;padding-left: 0.2em;position: relative;}#sk-container-id-3 div.sk-item {position: relative;z-index: 1;}#sk-container-id-3 div.sk-parallel {display: flex;align-items: stretch;justify-content: center;background-color: white;position: relative;}#sk-container-id-3 div.sk-item::before, #sk-container-id-3 div.sk-parallel-item::before {content: \"\";position: absolute;border-left: 1px solid gray;box-sizing: border-box;top: 0;bottom: 0;left: 50%;z-index: -1;}#sk-container-id-3 div.sk-parallel-item {display: flex;flex-direction: column;z-index: 1;position: relative;background-color: white;}#sk-container-id-3 div.sk-parallel-item:first-child::after {align-self: flex-end;width: 50%;}#sk-container-id-3 div.sk-parallel-item:last-child::after {align-self: flex-start;width: 50%;}#sk-container-id-3 div.sk-parallel-item:only-child::after {width: 0;}#sk-container-id-3 div.sk-dashed-wrapped {border: 1px dashed gray;margin: 0 0.4em 0.5em 0.4em;box-sizing: border-box;padding-bottom: 0.4em;background-color: white;}#sk-container-id-3 div.sk-label label {font-family: monospace;font-weight: bold;display: inline-block;line-height: 1.2em;}#sk-container-id-3 div.sk-label-container {text-align: center;}#sk-container-id-3 div.sk-container {/* jupyter's `normalize.less` sets `[hidden] { display: none; }` but bootstrap.min.css set `[hidden] { display: none !important; }` so we also need the `!important` here to be able to override the default hidden behavior on the sphinx rendered scikit-learn.org. See: https://github.com/scikit-learn/scikit-learn/issues/21755 */display: inline-block !important;position: relative;}#sk-container-id-3 div.sk-text-repr-fallback {display: none;}</style><div id=\"sk-container-id-3\" class=\"sk-top-container\"><div class=\"sk-text-repr-fallback\"><pre>LogisticRegression(max_iter=1000)</pre><b>In a Jupyter environment, please rerun this cell to show the HTML representation or trust the notebook. <br />On GitHub, the HTML representation is unable to render, please try loading this page with nbviewer.org.</b></div><div class=\"sk-container\" hidden><div class=\"sk-item\"><div class=\"sk-estimator sk-toggleable\"><input class=\"sk-toggleable__control sk-hidden--visually\" id=\"sk-estimator-id-3\" type=\"checkbox\" checked><label for=\"sk-estimator-id-3\" class=\"sk-toggleable__label sk-toggleable__label-arrow\">LogisticRegression</label><div class=\"sk-toggleable__content\"><pre>LogisticRegression(max_iter=1000)</pre></div></div></div></div></div>"
      ],
      "text/plain": [
       "LogisticRegression(max_iter=1000)"
      ]
     },
     "execution_count": 56,
     "metadata": {},
     "output_type": "execute_result"
    }
   ],
   "source": [
    "\n",
    "split_index = int(0.7 * len(seismic_data_cleaned))\n",
    "train_data = seismic_data_cleaned.iloc[:split_index]\n",
    "test_data = seismic_data_cleaned.iloc[split_index:]\n",
    "\n",
    "X_train, y_train = train_data[features], train_data[target]\n",
    "X_test, y_test = test_data[features], test_data[target]\n",
    "\n",
    "logistic_model = LogisticRegression(max_iter=1000)\n",
    "logistic_model.fit(X_train, y_train)\n",
    "\n"
   ]
  },
  {
   "cell_type": "markdown",
   "metadata": {},
   "source": [
    "<div style=\"background-color:#121212; color:#E0E0E0; padding:20px; border-radius:8px;font-family: 'Dancing Script', cursive;\">\n",
    "    <h2 style=\"color:#F1C40F;\">Prediction on test set</h2>\n",
    "    <p></p>\n",
    "</div>\n"
   ]
  },
  {
   "cell_type": "code",
   "execution_count": 57,
   "metadata": {
    "execution": {
     "iopub.execute_input": "2025-02-03T16:36:58.123390Z",
     "iopub.status.busy": "2025-02-03T16:36:58.123084Z",
     "iopub.status.idle": "2025-02-03T16:36:58.131162Z",
     "shell.execute_reply": "2025-02-03T16:36:58.130076Z",
     "shell.execute_reply.started": "2025-02-03T16:36:58.123364Z"
    },
    "trusted": true
   },
   "outputs": [],
   "source": [
    "y_pred = logistic_model.predict(X_test)"
   ]
  },
  {
   "cell_type": "markdown",
   "metadata": {},
   "source": [
    "<div style=\"background-color:#121212; color:#E0E0E0; padding:20px; border-radius:8px;font-family: 'Dancing Script', cursive;\">\n",
    "    <h2 style=\"color:#F1C40F;\">Checking Model Accuracy</h2>\n",
    "    <p></p>\n",
    "</div>\n"
   ]
  },
  {
   "cell_type": "code",
   "execution_count": 58,
   "metadata": {
    "execution": {
     "iopub.execute_input": "2025-02-03T16:36:58.133998Z",
     "iopub.status.busy": "2025-02-03T16:36:58.133619Z",
     "iopub.status.idle": "2025-02-03T16:36:58.155608Z",
     "shell.execute_reply": "2025-02-03T16:36:58.154532Z",
     "shell.execute_reply.started": "2025-02-03T16:36:58.133963Z"
    },
    "trusted": true
   },
   "outputs": [],
   "source": [
    "accuracy = accuracy_score(y_test, y_pred)"
   ]
  },
  {
   "cell_type": "code",
   "execution_count": 59,
   "metadata": {
    "execution": {
     "iopub.execute_input": "2025-02-03T16:36:58.157172Z",
     "iopub.status.busy": "2025-02-03T16:36:58.156898Z",
     "iopub.status.idle": "2025-02-03T16:36:58.164944Z",
     "shell.execute_reply": "2025-02-03T16:36:58.163899Z",
     "shell.execute_reply.started": "2025-02-03T16:36:58.157148Z"
    },
    "trusted": true
   },
   "outputs": [
    {
     "name": "stdout",
     "output_type": "stream",
     "text": [
      "Final Test Accuracy: 1.0000\n"
     ]
    }
   ],
   "source": [
    "\n",
    "print(f\"Final Test Accuracy: {accuracy:.4f}\")"
   ]
  }
 ],
 "metadata": {
  "kaggle": {
   "accelerator": "none",
   "dataSources": [
    {
     "datasetId": 6596039,
     "sourceId": 10652048,
     "sourceType": "datasetVersion"
    }
   ],
   "dockerImageVersionId": 30839,
   "isGpuEnabled": false,
   "isInternetEnabled": true,
   "language": "python",
   "sourceType": "notebook"
  },
  "kernelspec": {
   "display_name": "Python 3",
   "language": "python",
   "name": "python3"
  },
  "language_info": {
   "codemirror_mode": {
    "name": "ipython",
    "version": 3
   },
   "file_extension": ".py",
   "mimetype": "text/x-python",
   "name": "python",
   "nbconvert_exporter": "python",
   "pygments_lexer": "ipython3",
   "version": "3.10.12"
  }
 },
 "nbformat": 4,
 "nbformat_minor": 4
}
